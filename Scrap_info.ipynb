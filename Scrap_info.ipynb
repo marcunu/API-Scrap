{
 "cells": [
  {
   "cell_type": "markdown",
   "metadata": {},
   "source": [
    "<img src=\"https://fiverr-res.cloudinary.com/images/q_auto,f_auto/gigs/134954763/original/06ce660077465172ff4f6e8c48eda608a57d5130/web-scrape-and-data-scrap-from-any-website.jpeg\">"
   ]
  },
  {
   "cell_type": "markdown",
   "metadata": {},
   "source": [
    "### Import the libraries"
   ]
  },
  {
   "cell_type": "code",
   "execution_count": 1,
   "metadata": {},
   "outputs": [],
   "source": [
    "import requests\n",
    "from bs4 import BeautifulSoup\n",
    "import pandas as pd"
   ]
  },
  {
   "cell_type": "markdown",
   "metadata": {},
   "source": [
    "### Take the necessary information"
   ]
  },
  {
   "cell_type": "code",
   "execution_count": 2,
   "metadata": {},
   "outputs": [],
   "source": [
    "url_wiki = \"https://es.wikipedia.org/wiki/Marat%C3%B3n\""
   ]
  },
  {
   "cell_type": "code",
   "execution_count": 3,
   "metadata": {},
   "outputs": [],
   "source": [
    "response = requests.get(url_wiki)"
   ]
  },
  {
   "cell_type": "code",
   "execution_count": 6,
   "metadata": {},
   "outputs": [],
   "source": [
    "soup = BeautifulSoup(response.content, \"html.parser\")"
   ]
  },
  {
   "cell_type": "code",
   "execution_count": 140,
   "metadata": {},
   "outputs": [],
   "source": [
    "tabla = soup.find_all(\"table\")[1]"
   ]
  },
  {
   "cell_type": "code",
   "execution_count": 179,
   "metadata": {},
   "outputs": [
    {
     "data": {
      "text/plain": [
       "<tr>\n",
       "<th>Ranking\n",
       "</th>\n",
       "<th>Tiempo\n",
       "</th>\n",
       "<th>Atleta\n",
       "</th>\n",
       "<th>País\n",
       "</th>\n",
       "<th>Fecha\n",
       "</th>\n",
       "<th>Lugar\n",
       "</th></tr>"
      ]
     },
     "execution_count": 179,
     "metadata": {},
     "output_type": "execute_result"
    }
   ],
   "source": [
    "tabla.find_all(\"tr\")[1]"
   ]
  },
  {
   "cell_type": "code",
   "execution_count": 106,
   "metadata": {},
   "outputs": [
    {
     "data": {
      "text/plain": [
       "4"
      ]
     },
     "execution_count": 106,
     "metadata": {},
     "output_type": "execute_result"
    }
   ],
   "source": [
    "len(tabla.find_all(\"tr\")[0])"
   ]
  },
  {
   "cell_type": "code",
   "execution_count": 45,
   "metadata": {},
   "outputs": [
    {
     "data": {
      "text/plain": [
       "'2:01:39'"
      ]
     },
     "execution_count": 45,
     "metadata": {},
     "output_type": "execute_result"
    }
   ],
   "source": [
    "tabla.find_all(\"tr\")[2].find_all(\"td\")[1].text.strip()"
   ]
  },
  {
   "cell_type": "code",
   "execution_count": 46,
   "metadata": {},
   "outputs": [
    {
     "data": {
      "text/plain": [
       "'Eliud Kipchoge'"
      ]
     },
     "execution_count": 46,
     "metadata": {},
     "output_type": "execute_result"
    }
   ],
   "source": [
    "tabla.find_all(\"tr\")[2].find_all(\"td\")[2].text.strip()"
   ]
  },
  {
   "cell_type": "code",
   "execution_count": 73,
   "metadata": {},
   "outputs": [
    {
     "data": {
      "text/plain": [
       "'Kenia'"
      ]
     },
     "execution_count": 73,
     "metadata": {},
     "output_type": "execute_result"
    }
   ],
   "source": [
    "tabla.find_all(\"tr\")[2].find_all(\"td\")[3].find(\"a\").text.strip()"
   ]
  },
  {
   "cell_type": "code",
   "execution_count": 68,
   "metadata": {},
   "outputs": [
    {
     "data": {
      "text/plain": [
       "'16 de septiembre de 2018'"
      ]
     },
     "execution_count": 68,
     "metadata": {},
     "output_type": "execute_result"
    }
   ],
   "source": [
    "tabla.find_all(\"tr\")[2].find_all(\"td\")[4].text.strip()"
   ]
  },
  {
   "cell_type": "code",
   "execution_count": 70,
   "metadata": {},
   "outputs": [
    {
     "data": {
      "text/plain": [
       "'Berlín'"
      ]
     },
     "execution_count": 70,
     "metadata": {},
     "output_type": "execute_result"
    }
   ],
   "source": [
    "tabla.find_all(\"tr\")[2].find_all(\"td\")[5].text.strip()"
   ]
  },
  {
   "cell_type": "code",
   "execution_count": 189,
   "metadata": {},
   "outputs": [],
   "source": [
    "rankin_marath = []\n",
    "for f in tabla.find_all(\"tr\"):\n",
    "    if len(f)>10:\n",
    "        fila = [e for e in f.find_all(\"td\")]\n",
    "        if len(fila) > 0:\n",
    "            rank = {\n",
    "                \"Posicion\" : fila[0].text.strip(),\n",
    "                \"Tiempo\" : fila[1].text.strip(),\n",
    "                \"Nombre\" : fila[2].text.strip(),\n",
    "                \"Pais\" : fila[3].find(\"a\").text.strip(),\n",
    "                \"Fecha\" : fila[4].text.strip(),\n",
    "                \"Lugar\": fila[5].text.strip()\n",
    "            }\n",
    "\n",
    "        rankin_marath.append(rank)"
   ]
  },
  {
   "cell_type": "code",
   "execution_count": 190,
   "metadata": {},
   "outputs": [
    {
     "data": {
      "text/html": [
       "<div>\n",
       "<style scoped>\n",
       "    .dataframe tbody tr th:only-of-type {\n",
       "        vertical-align: middle;\n",
       "    }\n",
       "\n",
       "    .dataframe tbody tr th {\n",
       "        vertical-align: top;\n",
       "    }\n",
       "\n",
       "    .dataframe thead th {\n",
       "        text-align: right;\n",
       "    }\n",
       "</style>\n",
       "<table border=\"1\" class=\"dataframe\">\n",
       "  <thead>\n",
       "    <tr style=\"text-align: right;\">\n",
       "      <th></th>\n",
       "      <th>Posicion</th>\n",
       "      <th>Tiempo</th>\n",
       "      <th>Nombre</th>\n",
       "      <th>Pais</th>\n",
       "      <th>Fecha</th>\n",
       "      <th>Lugar</th>\n",
       "    </tr>\n",
       "  </thead>\n",
       "  <tbody>\n",
       "    <tr>\n",
       "      <th>0</th>\n",
       "      <td>10</td>\n",
       "      <td>2:18:47</td>\n",
       "      <td>Catherine Ndereba</td>\n",
       "      <td>Kenia</td>\n",
       "      <td>7 de octubre de 2001</td>\n",
       "      <td>Chicago</td>\n",
       "    </tr>\n",
       "    <tr>\n",
       "      <th>1</th>\n",
       "      <td>1</td>\n",
       "      <td>2:01:39</td>\n",
       "      <td>Eliud Kipchoge</td>\n",
       "      <td>Kenia</td>\n",
       "      <td>16 de septiembre de 2018</td>\n",
       "      <td>Berlín</td>\n",
       "    </tr>\n",
       "    <tr>\n",
       "      <th>2</th>\n",
       "      <td>2</td>\n",
       "      <td>2:01:41</td>\n",
       "      <td>Kenenisa Bekele</td>\n",
       "      <td>Etiopía</td>\n",
       "      <td>29 de septiembre de 2019</td>\n",
       "      <td>Berlín</td>\n",
       "    </tr>\n",
       "    <tr>\n",
       "      <th>3</th>\n",
       "      <td>3</td>\n",
       "      <td>2:02:48</td>\n",
       "      <td>Birhanu Legese</td>\n",
       "      <td>Etiopía</td>\n",
       "      <td>29 de septiembre de 2019</td>\n",
       "      <td>Berlín</td>\n",
       "    </tr>\n",
       "    <tr>\n",
       "      <th>4</th>\n",
       "      <td>4</td>\n",
       "      <td>2:02:55</td>\n",
       "      <td>Mosinet Geremew</td>\n",
       "      <td>Etiopía</td>\n",
       "      <td>28 de abril de 2019</td>\n",
       "      <td>Londres</td>\n",
       "    </tr>\n",
       "    <tr>\n",
       "      <th>5</th>\n",
       "      <td>5</td>\n",
       "      <td>2:02:57</td>\n",
       "      <td>Dennis Kimetto</td>\n",
       "      <td>Kenia</td>\n",
       "      <td>28 de septiembre de 2014</td>\n",
       "      <td>Berlín</td>\n",
       "    </tr>\n",
       "    <tr>\n",
       "      <th>6</th>\n",
       "      <td>6</td>\n",
       "      <td>2:03:00</td>\n",
       "      <td>Lawrence Chebet</td>\n",
       "      <td>Etiopía</td>\n",
       "      <td>6 de diciembre de 2020</td>\n",
       "      <td>Valencia</td>\n",
       "    </tr>\n",
       "    <tr>\n",
       "      <th>7</th>\n",
       "      <td>7</td>\n",
       "      <td>2:03:13</td>\n",
       "      <td>Wilson Kipsang Kiprotich</td>\n",
       "      <td>Kenia</td>\n",
       "      <td>25 de septiembre de 2016</td>\n",
       "      <td>Berlín</td>\n",
       "    </tr>\n",
       "    <tr>\n",
       "      <th>8</th>\n",
       "      <td>8</td>\n",
       "      <td>2:03:16</td>\n",
       "      <td>Mule Wasihun</td>\n",
       "      <td>Etiopía</td>\n",
       "      <td>28 de abril de 2019</td>\n",
       "      <td>Londres</td>\n",
       "    </tr>\n",
       "    <tr>\n",
       "      <th>9</th>\n",
       "      <td>9</td>\n",
       "      <td>2:03:34</td>\n",
       "      <td>Getaneh Molla</td>\n",
       "      <td>Etiopía</td>\n",
       "      <td>25 de enero de 2019</td>\n",
       "      <td>Dubai</td>\n",
       "    </tr>\n",
       "    <tr>\n",
       "      <th>10</th>\n",
       "      <td>10</td>\n",
       "      <td>2:03:45</td>\n",
       "      <td>Sisay Lemma</td>\n",
       "      <td>Etiopía</td>\n",
       "      <td>29 de septiembre de 2019</td>\n",
       "      <td>Berlín</td>\n",
       "    </tr>\n",
       "    <tr>\n",
       "      <th>11</th>\n",
       "      <td>10</td>\n",
       "      <td>2:03:45</td>\n",
       "      <td>Sisay Lemma</td>\n",
       "      <td>Etiopía</td>\n",
       "      <td>29 de septiembre de 2019</td>\n",
       "      <td>Berlín</td>\n",
       "    </tr>\n",
       "    <tr>\n",
       "      <th>12</th>\n",
       "      <td>1</td>\n",
       "      <td>2:14:04</td>\n",
       "      <td>Brigid Kosgei</td>\n",
       "      <td>Kenia</td>\n",
       "      <td>13 de octubre de 2019</td>\n",
       "      <td>Chicago</td>\n",
       "    </tr>\n",
       "    <tr>\n",
       "      <th>13</th>\n",
       "      <td>2</td>\n",
       "      <td>2:15:25</td>\n",
       "      <td>Paula Radcliffe</td>\n",
       "      <td>Reino Unido</td>\n",
       "      <td>13 de abril de 2003</td>\n",
       "      <td>Londres</td>\n",
       "    </tr>\n",
       "    <tr>\n",
       "      <th>14</th>\n",
       "      <td>3</td>\n",
       "      <td>2:17:01</td>\n",
       "      <td>Mary Jepkosgei Keitany</td>\n",
       "      <td>Kenia</td>\n",
       "      <td>23 de abril de 2017</td>\n",
       "      <td>Londres</td>\n",
       "    </tr>\n",
       "    <tr>\n",
       "      <th>15</th>\n",
       "      <td>4</td>\n",
       "      <td>2:17:08</td>\n",
       "      <td>Ruth Chepngetich</td>\n",
       "      <td>Kenia</td>\n",
       "      <td>25 de enero de 2019</td>\n",
       "      <td>Dubai</td>\n",
       "    </tr>\n",
       "    <tr>\n",
       "      <th>16</th>\n",
       "      <td>5</td>\n",
       "      <td>2:17:41</td>\n",
       "      <td>Worknesh Degefa</td>\n",
       "      <td>Etiopía</td>\n",
       "      <td>25 de enero de 2019</td>\n",
       "      <td>Dubai</td>\n",
       "    </tr>\n",
       "    <tr>\n",
       "      <th>17</th>\n",
       "      <td>6</td>\n",
       "      <td>2:17:56</td>\n",
       "      <td>Tirunesh Dibaba</td>\n",
       "      <td>Etiopía</td>\n",
       "      <td>23 de abril de 2017</td>\n",
       "      <td>Londres</td>\n",
       "    </tr>\n",
       "    <tr>\n",
       "      <th>18</th>\n",
       "      <td>7</td>\n",
       "      <td>2:18:11</td>\n",
       "      <td>Gladys Cherono</td>\n",
       "      <td>Kenia</td>\n",
       "      <td>30 de septiembre de 2018</td>\n",
       "      <td>Berlín</td>\n",
       "    </tr>\n",
       "    <tr>\n",
       "      <th>19</th>\n",
       "      <td>8</td>\n",
       "      <td>2:18:31</td>\n",
       "      <td>Vivian Cheruiyot</td>\n",
       "      <td>Kenia</td>\n",
       "      <td>22 de abril de 2018</td>\n",
       "      <td>Londres</td>\n",
       "    </tr>\n",
       "    <tr>\n",
       "      <th>20</th>\n",
       "      <td>9</td>\n",
       "      <td>2:18:34</td>\n",
       "      <td>Ruti Aga</td>\n",
       "      <td>Etiopía</td>\n",
       "      <td>16 de septiembre de 2018</td>\n",
       "      <td>Berlín</td>\n",
       "    </tr>\n",
       "    <tr>\n",
       "      <th>21</th>\n",
       "      <td>10</td>\n",
       "      <td>2:18:47</td>\n",
       "      <td>Catherine Ndereba</td>\n",
       "      <td>Kenia</td>\n",
       "      <td>7 de octubre de 2001</td>\n",
       "      <td>Chicago</td>\n",
       "    </tr>\n",
       "  </tbody>\n",
       "</table>\n",
       "</div>"
      ],
      "text/plain": [
       "   Posicion   Tiempo                    Nombre         Pais  \\\n",
       "0        10  2:18:47         Catherine Ndereba        Kenia   \n",
       "1         1  2:01:39            Eliud Kipchoge        Kenia   \n",
       "2         2  2:01:41           Kenenisa Bekele      Etiopía   \n",
       "3         3  2:02:48            Birhanu Legese      Etiopía   \n",
       "4         4  2:02:55           Mosinet Geremew      Etiopía   \n",
       "5         5  2:02:57            Dennis Kimetto        Kenia   \n",
       "6         6  2:03:00           Lawrence Chebet      Etiopía   \n",
       "7         7  2:03:13  Wilson Kipsang Kiprotich        Kenia   \n",
       "8         8  2:03:16              Mule Wasihun      Etiopía   \n",
       "9         9  2:03:34             Getaneh Molla      Etiopía   \n",
       "10       10  2:03:45               Sisay Lemma      Etiopía   \n",
       "11       10  2:03:45               Sisay Lemma      Etiopía   \n",
       "12        1  2:14:04             Brigid Kosgei        Kenia   \n",
       "13        2  2:15:25           Paula Radcliffe  Reino Unido   \n",
       "14        3  2:17:01    Mary Jepkosgei Keitany        Kenia   \n",
       "15        4  2:17:08          Ruth Chepngetich        Kenia   \n",
       "16        5  2:17:41           Worknesh Degefa      Etiopía   \n",
       "17        6  2:17:56           Tirunesh Dibaba      Etiopía   \n",
       "18        7  2:18:11            Gladys Cherono        Kenia   \n",
       "19        8  2:18:31          Vivian Cheruiyot        Kenia   \n",
       "20        9  2:18:34                  Ruti Aga      Etiopía   \n",
       "21       10  2:18:47         Catherine Ndereba        Kenia   \n",
       "\n",
       "                       Fecha     Lugar  \n",
       "0       7 de octubre de 2001   Chicago  \n",
       "1   16 de septiembre de 2018    Berlín  \n",
       "2   29 de septiembre de 2019    Berlín  \n",
       "3   29 de septiembre de 2019    Berlín  \n",
       "4        28 de abril de 2019   Londres  \n",
       "5   28 de septiembre de 2014    Berlín  \n",
       "6     6 de diciembre de 2020  Valencia  \n",
       "7   25 de septiembre de 2016    Berlín  \n",
       "8        28 de abril de 2019   Londres  \n",
       "9        25 de enero de 2019     Dubai  \n",
       "10  29 de septiembre de 2019    Berlín  \n",
       "11  29 de septiembre de 2019    Berlín  \n",
       "12     13 de octubre de 2019   Chicago  \n",
       "13       13 de abril de 2003   Londres  \n",
       "14       23 de abril de 2017   Londres  \n",
       "15       25 de enero de 2019     Dubai  \n",
       "16       25 de enero de 2019     Dubai  \n",
       "17       23 de abril de 2017   Londres  \n",
       "18  30 de septiembre de 2018    Berlín  \n",
       "19       22 de abril de 2018   Londres  \n",
       "20  16 de septiembre de 2018    Berlín  \n",
       "21      7 de octubre de 2001   Chicago  "
      ]
     },
     "execution_count": 190,
     "metadata": {},
     "output_type": "execute_result"
    }
   ],
   "source": [
    "corredores = pd.DataFrame(rankin_marath)\n",
    "corredores"
   ]
  },
  {
   "cell_type": "code",
   "execution_count": 220,
   "metadata": {},
   "outputs": [
    {
     "data": {
      "text/html": [
       "<div>\n",
       "<style scoped>\n",
       "    .dataframe tbody tr th:only-of-type {\n",
       "        vertical-align: middle;\n",
       "    }\n",
       "\n",
       "    .dataframe tbody tr th {\n",
       "        vertical-align: top;\n",
       "    }\n",
       "\n",
       "    .dataframe thead th {\n",
       "        text-align: right;\n",
       "    }\n",
       "</style>\n",
       "<table border=\"1\" class=\"dataframe\">\n",
       "  <thead>\n",
       "    <tr style=\"text-align: right;\">\n",
       "      <th></th>\n",
       "      <th>Tiempo</th>\n",
       "      <th>Nombre</th>\n",
       "      <th>Pais</th>\n",
       "      <th>Fecha</th>\n",
       "      <th>Lugar</th>\n",
       "    </tr>\n",
       "    <tr>\n",
       "      <th>Posicion</th>\n",
       "      <th></th>\n",
       "      <th></th>\n",
       "      <th></th>\n",
       "      <th></th>\n",
       "      <th></th>\n",
       "    </tr>\n",
       "  </thead>\n",
       "  <tbody>\n",
       "    <tr>\n",
       "      <th>1</th>\n",
       "      <td>2:01:39</td>\n",
       "      <td>Eliud Kipchoge</td>\n",
       "      <td>Kenia</td>\n",
       "      <td>16 de septiembre de 2018</td>\n",
       "      <td>Berlín</td>\n",
       "    </tr>\n",
       "    <tr>\n",
       "      <th>2</th>\n",
       "      <td>2:01:41</td>\n",
       "      <td>Kenenisa Bekele</td>\n",
       "      <td>Etiopía</td>\n",
       "      <td>29 de septiembre de 2019</td>\n",
       "      <td>Berlín</td>\n",
       "    </tr>\n",
       "    <tr>\n",
       "      <th>3</th>\n",
       "      <td>2:02:48</td>\n",
       "      <td>Birhanu Legese</td>\n",
       "      <td>Etiopía</td>\n",
       "      <td>29 de septiembre de 2019</td>\n",
       "      <td>Berlín</td>\n",
       "    </tr>\n",
       "    <tr>\n",
       "      <th>4</th>\n",
       "      <td>2:02:55</td>\n",
       "      <td>Mosinet Geremew</td>\n",
       "      <td>Etiopía</td>\n",
       "      <td>28 de abril de 2019</td>\n",
       "      <td>Londres</td>\n",
       "    </tr>\n",
       "    <tr>\n",
       "      <th>5</th>\n",
       "      <td>2:02:57</td>\n",
       "      <td>Dennis Kimetto</td>\n",
       "      <td>Kenia</td>\n",
       "      <td>28 de septiembre de 2014</td>\n",
       "      <td>Berlín</td>\n",
       "    </tr>\n",
       "    <tr>\n",
       "      <th>6</th>\n",
       "      <td>2:03:00</td>\n",
       "      <td>Lawrence Chebet</td>\n",
       "      <td>Etiopía</td>\n",
       "      <td>6 de diciembre de 2020</td>\n",
       "      <td>Valencia</td>\n",
       "    </tr>\n",
       "    <tr>\n",
       "      <th>7</th>\n",
       "      <td>2:03:13</td>\n",
       "      <td>Wilson Kipsang Kiprotich</td>\n",
       "      <td>Kenia</td>\n",
       "      <td>25 de septiembre de 2016</td>\n",
       "      <td>Berlín</td>\n",
       "    </tr>\n",
       "    <tr>\n",
       "      <th>8</th>\n",
       "      <td>2:03:16</td>\n",
       "      <td>Mule Wasihun</td>\n",
       "      <td>Etiopía</td>\n",
       "      <td>28 de abril de 2019</td>\n",
       "      <td>Londres</td>\n",
       "    </tr>\n",
       "    <tr>\n",
       "      <th>9</th>\n",
       "      <td>2:03:34</td>\n",
       "      <td>Getaneh Molla</td>\n",
       "      <td>Etiopía</td>\n",
       "      <td>25 de enero de 2019</td>\n",
       "      <td>Dubai</td>\n",
       "    </tr>\n",
       "    <tr>\n",
       "      <th>10</th>\n",
       "      <td>2:03:45</td>\n",
       "      <td>Sisay Lemma</td>\n",
       "      <td>Etiopía</td>\n",
       "      <td>29 de septiembre de 2019</td>\n",
       "      <td>Berlín</td>\n",
       "    </tr>\n",
       "  </tbody>\n",
       "</table>\n",
       "</div>"
      ],
      "text/plain": [
       "           Tiempo                    Nombre     Pais  \\\n",
       "Posicion                                               \n",
       "1         2:01:39            Eliud Kipchoge    Kenia   \n",
       "2         2:01:41           Kenenisa Bekele  Etiopía   \n",
       "3         2:02:48            Birhanu Legese  Etiopía   \n",
       "4         2:02:55           Mosinet Geremew  Etiopía   \n",
       "5         2:02:57            Dennis Kimetto    Kenia   \n",
       "6         2:03:00           Lawrence Chebet  Etiopía   \n",
       "7         2:03:13  Wilson Kipsang Kiprotich    Kenia   \n",
       "8         2:03:16              Mule Wasihun  Etiopía   \n",
       "9         2:03:34             Getaneh Molla  Etiopía   \n",
       "10        2:03:45               Sisay Lemma  Etiopía   \n",
       "\n",
       "                             Fecha     Lugar  \n",
       "Posicion                                      \n",
       "1         16 de septiembre de 2018    Berlín  \n",
       "2         29 de septiembre de 2019    Berlín  \n",
       "3         29 de septiembre de 2019    Berlín  \n",
       "4              28 de abril de 2019   Londres  \n",
       "5         28 de septiembre de 2014    Berlín  \n",
       "6           6 de diciembre de 2020  Valencia  \n",
       "7         25 de septiembre de 2016    Berlín  \n",
       "8              28 de abril de 2019   Londres  \n",
       "9              25 de enero de 2019     Dubai  \n",
       "10        29 de septiembre de 2019    Berlín  "
      ]
     },
     "execution_count": 220,
     "metadata": {},
     "output_type": "execute_result"
    }
   ],
   "source": [
    "hombres = corredores.drop([0, 11, 12, 13, 14 , 15, 16, 17, 18, 19, 20, 21], axis = 0).set_index('Posicion')\n",
    "hombres"
   ]
  },
  {
   "cell_type": "code",
   "execution_count": 221,
   "metadata": {},
   "outputs": [],
   "source": [
    "hombres.to_csv(\".\\data\\marath_hombres.csv\")"
   ]
  },
  {
   "cell_type": "code",
   "execution_count": 222,
   "metadata": {},
   "outputs": [
    {
     "data": {
      "text/html": [
       "<div>\n",
       "<style scoped>\n",
       "    .dataframe tbody tr th:only-of-type {\n",
       "        vertical-align: middle;\n",
       "    }\n",
       "\n",
       "    .dataframe tbody tr th {\n",
       "        vertical-align: top;\n",
       "    }\n",
       "\n",
       "    .dataframe thead th {\n",
       "        text-align: right;\n",
       "    }\n",
       "</style>\n",
       "<table border=\"1\" class=\"dataframe\">\n",
       "  <thead>\n",
       "    <tr style=\"text-align: right;\">\n",
       "      <th></th>\n",
       "      <th>Tiempo</th>\n",
       "      <th>Nombre</th>\n",
       "      <th>Pais</th>\n",
       "      <th>Fecha</th>\n",
       "      <th>Lugar</th>\n",
       "    </tr>\n",
       "    <tr>\n",
       "      <th>Posicion</th>\n",
       "      <th></th>\n",
       "      <th></th>\n",
       "      <th></th>\n",
       "      <th></th>\n",
       "      <th></th>\n",
       "    </tr>\n",
       "  </thead>\n",
       "  <tbody>\n",
       "    <tr>\n",
       "      <th>1</th>\n",
       "      <td>2:14:04</td>\n",
       "      <td>Brigid Kosgei</td>\n",
       "      <td>Kenia</td>\n",
       "      <td>13 de octubre de 2019</td>\n",
       "      <td>Chicago</td>\n",
       "    </tr>\n",
       "    <tr>\n",
       "      <th>2</th>\n",
       "      <td>2:15:25</td>\n",
       "      <td>Paula Radcliffe</td>\n",
       "      <td>Reino Unido</td>\n",
       "      <td>13 de abril de 2003</td>\n",
       "      <td>Londres</td>\n",
       "    </tr>\n",
       "    <tr>\n",
       "      <th>3</th>\n",
       "      <td>2:17:01</td>\n",
       "      <td>Mary Jepkosgei Keitany</td>\n",
       "      <td>Kenia</td>\n",
       "      <td>23 de abril de 2017</td>\n",
       "      <td>Londres</td>\n",
       "    </tr>\n",
       "    <tr>\n",
       "      <th>4</th>\n",
       "      <td>2:17:08</td>\n",
       "      <td>Ruth Chepngetich</td>\n",
       "      <td>Kenia</td>\n",
       "      <td>25 de enero de 2019</td>\n",
       "      <td>Dubai</td>\n",
       "    </tr>\n",
       "    <tr>\n",
       "      <th>5</th>\n",
       "      <td>2:17:41</td>\n",
       "      <td>Worknesh Degefa</td>\n",
       "      <td>Etiopía</td>\n",
       "      <td>25 de enero de 2019</td>\n",
       "      <td>Dubai</td>\n",
       "    </tr>\n",
       "    <tr>\n",
       "      <th>6</th>\n",
       "      <td>2:17:56</td>\n",
       "      <td>Tirunesh Dibaba</td>\n",
       "      <td>Etiopía</td>\n",
       "      <td>23 de abril de 2017</td>\n",
       "      <td>Londres</td>\n",
       "    </tr>\n",
       "    <tr>\n",
       "      <th>7</th>\n",
       "      <td>2:18:11</td>\n",
       "      <td>Gladys Cherono</td>\n",
       "      <td>Kenia</td>\n",
       "      <td>30 de septiembre de 2018</td>\n",
       "      <td>Berlín</td>\n",
       "    </tr>\n",
       "    <tr>\n",
       "      <th>8</th>\n",
       "      <td>2:18:31</td>\n",
       "      <td>Vivian Cheruiyot</td>\n",
       "      <td>Kenia</td>\n",
       "      <td>22 de abril de 2018</td>\n",
       "      <td>Londres</td>\n",
       "    </tr>\n",
       "    <tr>\n",
       "      <th>9</th>\n",
       "      <td>2:18:34</td>\n",
       "      <td>Ruti Aga</td>\n",
       "      <td>Etiopía</td>\n",
       "      <td>16 de septiembre de 2018</td>\n",
       "      <td>Berlín</td>\n",
       "    </tr>\n",
       "    <tr>\n",
       "      <th>10</th>\n",
       "      <td>2:18:47</td>\n",
       "      <td>Catherine Ndereba</td>\n",
       "      <td>Kenia</td>\n",
       "      <td>7 de octubre de 2001</td>\n",
       "      <td>Chicago</td>\n",
       "    </tr>\n",
       "  </tbody>\n",
       "</table>\n",
       "</div>"
      ],
      "text/plain": [
       "           Tiempo                  Nombre         Pais  \\\n",
       "Posicion                                                 \n",
       "1         2:14:04           Brigid Kosgei        Kenia   \n",
       "2         2:15:25         Paula Radcliffe  Reino Unido   \n",
       "3         2:17:01  Mary Jepkosgei Keitany        Kenia   \n",
       "4         2:17:08        Ruth Chepngetich        Kenia   \n",
       "5         2:17:41         Worknesh Degefa      Etiopía   \n",
       "6         2:17:56         Tirunesh Dibaba      Etiopía   \n",
       "7         2:18:11          Gladys Cherono        Kenia   \n",
       "8         2:18:31        Vivian Cheruiyot        Kenia   \n",
       "9         2:18:34                Ruti Aga      Etiopía   \n",
       "10        2:18:47       Catherine Ndereba        Kenia   \n",
       "\n",
       "                             Fecha    Lugar  \n",
       "Posicion                                     \n",
       "1            13 de octubre de 2019  Chicago  \n",
       "2              13 de abril de 2003  Londres  \n",
       "3              23 de abril de 2017  Londres  \n",
       "4              25 de enero de 2019    Dubai  \n",
       "5              25 de enero de 2019    Dubai  \n",
       "6              23 de abril de 2017  Londres  \n",
       "7         30 de septiembre de 2018   Berlín  \n",
       "8              22 de abril de 2018  Londres  \n",
       "9         16 de septiembre de 2018   Berlín  \n",
       "10            7 de octubre de 2001  Chicago  "
      ]
     },
     "execution_count": 222,
     "metadata": {},
     "output_type": "execute_result"
    }
   ],
   "source": [
    "mujeres = corredores.drop([0, 1, 2, 3, 4, 5, 6, 7, 8, 9, 10, 11], axis = 0).set_index('Posicion')\n",
    "\n",
    "mujeres"
   ]
  },
  {
   "cell_type": "code",
   "execution_count": 223,
   "metadata": {},
   "outputs": [],
   "source": [
    "mujeres.to_csv(\".\\data\\marath_mujeres.csv\")"
   ]
  },
  {
   "cell_type": "code",
   "execution_count": null,
   "metadata": {},
   "outputs": [],
   "source": []
  }
 ],
 "metadata": {
  "kernelspec": {
   "display_name": "Python 3",
   "language": "python",
   "name": "python3"
  },
  "language_info": {
   "codemirror_mode": {
    "name": "ipython",
    "version": 3
   },
   "file_extension": ".py",
   "mimetype": "text/x-python",
   "name": "python",
   "nbconvert_exporter": "python",
   "pygments_lexer": "ipython3",
   "version": "3.8.5"
  }
 },
 "nbformat": 4,
 "nbformat_minor": 4
}
