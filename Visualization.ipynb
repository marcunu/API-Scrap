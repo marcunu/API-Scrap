{
 "cells": [
  {
   "cell_type": "markdown",
   "metadata": {},
   "source": [
    "<img src=\"https://www.climber.eu/wp-content/uploads/sites/2/2020/03/ClimberNL_Blog_DataVisual_Milou_1400x877.jpg\">"
   ]
  },
  {
   "cell_type": "markdown",
   "metadata": {},
   "source": [
    "# Visualization"
   ]
  },
  {
   "cell_type": "markdown",
   "metadata": {},
   "source": [
    "In this file we will compare the data obtained through APIs to the Strava website, the data obtained through WebScraping to wikipedia and a dataset downloaded from  [Kaggle](https://www.kaggle.com/melvincheung/hong-kong-marathon-2016)"
   ]
  },
  {
   "cell_type": "markdown",
   "metadata": {},
   "source": [
    "### Import the libraries"
   ]
  },
  {
   "cell_type": "code",
   "execution_count": 1,
   "metadata": {},
   "outputs": [],
   "source": [
    "import pandas as pd\n",
    "import seaborn as sns\n",
    "import matplotlib.pyplot as plt\n",
    "import re\n",
    "import numpy as np\n",
    "import src.limpieza_texto as lt\n",
    "import src.visualizacion as vt"
   ]
  },
  {
   "cell_type": "markdown",
   "metadata": {},
   "source": [
    "### import the datasets"
   ]
  },
  {
   "cell_type": "markdown",
   "metadata": {},
   "source": [
    "This is the Dataset with the information obtained via `API`."
   ]
  },
  {
   "cell_type": "code",
   "execution_count": 2,
   "metadata": {},
   "outputs": [],
   "source": [
    "strava = pd.read_csv(\"data/mis_carreras.csv\")"
   ]
  },
  {
   "cell_type": "markdown",
   "metadata": {},
   "source": [
    "The following two datasets are those obtained by `WebScraping` from wikipedia."
   ]
  },
  {
   "cell_type": "code",
   "execution_count": 3,
   "metadata": {},
   "outputs": [],
   "source": [
    "man = pd.read_csv(\"data/marath_hombres.csv\")"
   ]
  },
  {
   "cell_type": "code",
   "execution_count": 4,
   "metadata": {},
   "outputs": [],
   "source": [
    "woman = pd.read_csv(\"data/marath_mujeres.csv\")"
   ]
  },
  {
   "cell_type": "markdown",
   "metadata": {},
   "source": [
    "The last two are the result of cleaning the dataset downloaded from [Kaggle](https://www.kaggle.com/melvincheung/hong-kong-marathon-2016)."
   ]
  },
  {
   "cell_type": "code",
   "execution_count": 54,
   "metadata": {},
   "outputs": [],
   "source": [
    "top_100 = pd.read_csv(\"data/top_100.csv\")"
   ]
  },
  {
   "cell_type": "code",
   "execution_count": 68,
   "metadata": {},
   "outputs": [],
   "source": [
    "media = pd.read_csv(\"data/average.csv\")"
   ]
  },
  {
   "cell_type": "markdown",
   "metadata": {},
   "source": [
    "## API\n",
    "The term `API` is an abbreviation for `Application Programming Interfaces`. It is a set of definitions and protocols used to develop and integrate application software, enabling communication between two software applications through a set of rules.\n",
    "\n",
    "In order to get information through APIs you need to have access with a `token` provided by the web page you are trying to get information from.\n",
    "\n",
    "This is a part of the dataset.\n"
   ]
  },
  {
   "cell_type": "code",
   "execution_count": 6,
   "metadata": {
    "scrolled": true
   },
   "outputs": [
    {
     "data": {
      "text/html": [
       "<div>\n",
       "<style scoped>\n",
       "    .dataframe tbody tr th:only-of-type {\n",
       "        vertical-align: middle;\n",
       "    }\n",
       "\n",
       "    .dataframe tbody tr th {\n",
       "        vertical-align: top;\n",
       "    }\n",
       "\n",
       "    .dataframe thead th {\n",
       "        text-align: right;\n",
       "    }\n",
       "</style>\n",
       "<table border=\"1\" class=\"dataframe\">\n",
       "  <thead>\n",
       "    <tr style=\"text-align: right;\">\n",
       "      <th></th>\n",
       "      <th>Unnamed: 0</th>\n",
       "      <th>Nombre carrera</th>\n",
       "      <th>Distancia (km)</th>\n",
       "      <th>Tiempo (min)</th>\n",
       "      <th>Ritmo medio (min/km)</th>\n",
       "      <th>Velocidad media (km/h)</th>\n",
       "      <th>Pulso medio (ppm)</th>\n",
       "      <th>Altitud (m)</th>\n",
       "      <th>Elevacion (m)</th>\n",
       "      <th>Fecha</th>\n",
       "      <th>Ciudad</th>\n",
       "      <th>Comunidad Autonoma</th>\n",
       "      <th>Pais</th>\n",
       "      <th>Ubicación</th>\n",
       "    </tr>\n",
       "  </thead>\n",
       "  <tbody>\n",
       "    <tr>\n",
       "      <th>0</th>\n",
       "      <td>0</td>\n",
       "      <td>Lunch Run</td>\n",
       "      <td>8.73</td>\n",
       "      <td>38.07</td>\n",
       "      <td>4.36</td>\n",
       "      <td>13.76</td>\n",
       "      <td>153.0</td>\n",
       "      <td>702.6</td>\n",
       "      <td>76.6</td>\n",
       "      <td>2021-04-10</td>\n",
       "      <td>Madrid</td>\n",
       "      <td>Comunidad de Madrid</td>\n",
       "      <td>España</td>\n",
       "      <td>[40.46, -3.69]</td>\n",
       "    </tr>\n",
       "    <tr>\n",
       "      <th>1</th>\n",
       "      <td>1</td>\n",
       "      <td>Morning Run</td>\n",
       "      <td>10.04</td>\n",
       "      <td>46.17</td>\n",
       "      <td>4.60</td>\n",
       "      <td>13.04</td>\n",
       "      <td>148.1</td>\n",
       "      <td>702.6</td>\n",
       "      <td>85.0</td>\n",
       "      <td>2021-04-09</td>\n",
       "      <td>Madrid</td>\n",
       "      <td>Comunidad de Madrid</td>\n",
       "      <td>España</td>\n",
       "      <td>[40.46, -3.69]</td>\n",
       "    </tr>\n",
       "    <tr>\n",
       "      <th>2</th>\n",
       "      <td>2</td>\n",
       "      <td>Morning Run</td>\n",
       "      <td>6.85</td>\n",
       "      <td>30.43</td>\n",
       "      <td>4.44</td>\n",
       "      <td>13.51</td>\n",
       "      <td>153.4</td>\n",
       "      <td>690.0</td>\n",
       "      <td>76.6</td>\n",
       "      <td>2021-04-08</td>\n",
       "      <td>Madrid</td>\n",
       "      <td>Comunidad de Madrid</td>\n",
       "      <td>España</td>\n",
       "      <td>[40.46, -3.69]</td>\n",
       "    </tr>\n",
       "    <tr>\n",
       "      <th>3</th>\n",
       "      <td>3</td>\n",
       "      <td>Morning Run</td>\n",
       "      <td>5.98</td>\n",
       "      <td>24.83</td>\n",
       "      <td>4.15</td>\n",
       "      <td>14.46</td>\n",
       "      <td>153.9</td>\n",
       "      <td>659.7</td>\n",
       "      <td>66.9</td>\n",
       "      <td>2021-04-07</td>\n",
       "      <td>Madrid</td>\n",
       "      <td>Comunidad de Madrid</td>\n",
       "      <td>España</td>\n",
       "      <td>[40.42, -3.68]</td>\n",
       "    </tr>\n",
       "    <tr>\n",
       "      <th>4</th>\n",
       "      <td>4</td>\n",
       "      <td>Morning Run</td>\n",
       "      <td>4.82</td>\n",
       "      <td>19.83</td>\n",
       "      <td>4.11</td>\n",
       "      <td>14.60</td>\n",
       "      <td>154.6</td>\n",
       "      <td>683.8</td>\n",
       "      <td>15.6</td>\n",
       "      <td>2021-04-07</td>\n",
       "      <td>Madrid</td>\n",
       "      <td>Comunidad de Madrid</td>\n",
       "      <td>España</td>\n",
       "      <td>[40.46, -3.69]</td>\n",
       "    </tr>\n",
       "  </tbody>\n",
       "</table>\n",
       "</div>"
      ],
      "text/plain": [
       "   Unnamed: 0 Nombre carrera  Distancia (km)  Tiempo (min)  \\\n",
       "0           0      Lunch Run            8.73         38.07   \n",
       "1           1    Morning Run           10.04         46.17   \n",
       "2           2    Morning Run            6.85         30.43   \n",
       "3           3    Morning Run            5.98         24.83   \n",
       "4           4    Morning Run            4.82         19.83   \n",
       "\n",
       "   Ritmo medio (min/km)  Velocidad media (km/h)  Pulso medio (ppm)  \\\n",
       "0                  4.36                   13.76              153.0   \n",
       "1                  4.60                   13.04              148.1   \n",
       "2                  4.44                   13.51              153.4   \n",
       "3                  4.15                   14.46              153.9   \n",
       "4                  4.11                   14.60              154.6   \n",
       "\n",
       "   Altitud (m)  Elevacion (m)       Fecha  Ciudad   Comunidad Autonoma  \\\n",
       "0        702.6           76.6  2021-04-10  Madrid  Comunidad de Madrid   \n",
       "1        702.6           85.0  2021-04-09  Madrid  Comunidad de Madrid   \n",
       "2        690.0           76.6  2021-04-08  Madrid  Comunidad de Madrid   \n",
       "3        659.7           66.9  2021-04-07  Madrid  Comunidad de Madrid   \n",
       "4        683.8           15.6  2021-04-07  Madrid  Comunidad de Madrid   \n",
       "\n",
       "     Pais       Ubicación  \n",
       "0  España  [40.46, -3.69]  \n",
       "1  España  [40.46, -3.69]  \n",
       "2  España  [40.46, -3.69]  \n",
       "3  España  [40.42, -3.68]  \n",
       "4  España  [40.46, -3.69]  "
      ]
     },
     "execution_count": 6,
     "metadata": {},
     "output_type": "execute_result"
    }
   ],
   "source": [
    "strava.head(5)"
   ]
  },
  {
   "cell_type": "markdown",
   "metadata": {},
   "source": [
    "To obtain the aritmethic values of the dataset we can use the function `.describe()`."
   ]
  },
  {
   "cell_type": "code",
   "execution_count": 7,
   "metadata": {
    "scrolled": true
   },
   "outputs": [
    {
     "data": {
      "text/html": [
       "<div>\n",
       "<style scoped>\n",
       "    .dataframe tbody tr th:only-of-type {\n",
       "        vertical-align: middle;\n",
       "    }\n",
       "\n",
       "    .dataframe tbody tr th {\n",
       "        vertical-align: top;\n",
       "    }\n",
       "\n",
       "    .dataframe thead th {\n",
       "        text-align: right;\n",
       "    }\n",
       "</style>\n",
       "<table border=\"1\" class=\"dataframe\">\n",
       "  <thead>\n",
       "    <tr style=\"text-align: right;\">\n",
       "      <th></th>\n",
       "      <th>Unnamed: 0</th>\n",
       "      <th>Distancia (km)</th>\n",
       "      <th>Tiempo (min)</th>\n",
       "      <th>Ritmo medio (min/km)</th>\n",
       "      <th>Velocidad media (km/h)</th>\n",
       "      <th>Pulso medio (ppm)</th>\n",
       "      <th>Altitud (m)</th>\n",
       "      <th>Elevacion (m)</th>\n",
       "    </tr>\n",
       "  </thead>\n",
       "  <tbody>\n",
       "    <tr>\n",
       "      <th>count</th>\n",
       "      <td>30.000000</td>\n",
       "      <td>30.000000</td>\n",
       "      <td>30.000000</td>\n",
       "      <td>30.000000</td>\n",
       "      <td>30.000000</td>\n",
       "      <td>30.000000</td>\n",
       "      <td>30.00000</td>\n",
       "      <td>30.000000</td>\n",
       "    </tr>\n",
       "    <tr>\n",
       "      <th>mean</th>\n",
       "      <td>14.500000</td>\n",
       "      <td>8.516667</td>\n",
       "      <td>37.777000</td>\n",
       "      <td>4.483667</td>\n",
       "      <td>13.421667</td>\n",
       "      <td>144.013333</td>\n",
       "      <td>692.23000</td>\n",
       "      <td>67.396667</td>\n",
       "    </tr>\n",
       "    <tr>\n",
       "      <th>std</th>\n",
       "      <td>8.803408</td>\n",
       "      <td>3.368605</td>\n",
       "      <td>14.332539</td>\n",
       "      <td>0.250275</td>\n",
       "      <td>0.754102</td>\n",
       "      <td>11.356442</td>\n",
       "      <td>34.47695</td>\n",
       "      <td>26.903717</td>\n",
       "    </tr>\n",
       "    <tr>\n",
       "      <th>min</th>\n",
       "      <td>0.000000</td>\n",
       "      <td>1.070000</td>\n",
       "      <td>5.420000</td>\n",
       "      <td>3.910000</td>\n",
       "      <td>11.830000</td>\n",
       "      <td>114.100000</td>\n",
       "      <td>655.50000</td>\n",
       "      <td>6.700000</td>\n",
       "    </tr>\n",
       "    <tr>\n",
       "      <th>25%</th>\n",
       "      <td>7.250000</td>\n",
       "      <td>6.470000</td>\n",
       "      <td>28.945000</td>\n",
       "      <td>4.337500</td>\n",
       "      <td>12.937500</td>\n",
       "      <td>139.775000</td>\n",
       "      <td>666.10000</td>\n",
       "      <td>56.900000</td>\n",
       "    </tr>\n",
       "    <tr>\n",
       "      <th>50%</th>\n",
       "      <td>14.500000</td>\n",
       "      <td>8.510000</td>\n",
       "      <td>38.925000</td>\n",
       "      <td>4.460000</td>\n",
       "      <td>13.450000</td>\n",
       "      <td>146.450000</td>\n",
       "      <td>690.30000</td>\n",
       "      <td>75.550000</td>\n",
       "    </tr>\n",
       "    <tr>\n",
       "      <th>75%</th>\n",
       "      <td>21.750000</td>\n",
       "      <td>10.210000</td>\n",
       "      <td>45.822500</td>\n",
       "      <td>4.637500</td>\n",
       "      <td>13.835000</td>\n",
       "      <td>152.525000</td>\n",
       "      <td>702.60000</td>\n",
       "      <td>83.275000</td>\n",
       "    </tr>\n",
       "    <tr>\n",
       "      <th>max</th>\n",
       "      <td>29.000000</td>\n",
       "      <td>14.110000</td>\n",
       "      <td>62.400000</td>\n",
       "      <td>5.070000</td>\n",
       "      <td>15.350000</td>\n",
       "      <td>160.000000</td>\n",
       "      <td>807.10000</td>\n",
       "      <td>115.000000</td>\n",
       "    </tr>\n",
       "  </tbody>\n",
       "</table>\n",
       "</div>"
      ],
      "text/plain": [
       "       Unnamed: 0  Distancia (km)  Tiempo (min)  Ritmo medio (min/km)  \\\n",
       "count   30.000000       30.000000     30.000000             30.000000   \n",
       "mean    14.500000        8.516667     37.777000              4.483667   \n",
       "std      8.803408        3.368605     14.332539              0.250275   \n",
       "min      0.000000        1.070000      5.420000              3.910000   \n",
       "25%      7.250000        6.470000     28.945000              4.337500   \n",
       "50%     14.500000        8.510000     38.925000              4.460000   \n",
       "75%     21.750000       10.210000     45.822500              4.637500   \n",
       "max     29.000000       14.110000     62.400000              5.070000   \n",
       "\n",
       "       Velocidad media (km/h)  Pulso medio (ppm)  Altitud (m)  Elevacion (m)  \n",
       "count               30.000000          30.000000     30.00000      30.000000  \n",
       "mean                13.421667         144.013333    692.23000      67.396667  \n",
       "std                  0.754102          11.356442     34.47695      26.903717  \n",
       "min                 11.830000         114.100000    655.50000       6.700000  \n",
       "25%                 12.937500         139.775000    666.10000      56.900000  \n",
       "50%                 13.450000         146.450000    690.30000      75.550000  \n",
       "75%                 13.835000         152.525000    702.60000      83.275000  \n",
       "max                 15.350000         160.000000    807.10000     115.000000  "
      ]
     },
     "execution_count": 7,
     "metadata": {},
     "output_type": "execute_result"
    }
   ],
   "source": [
    "strava.describe()"
   ]
  },
  {
   "cell_type": "markdown",
   "metadata": {},
   "source": [
    "### Which distances are above the average?"
   ]
  },
  {
   "cell_type": "code",
   "execution_count": 77,
   "metadata": {},
   "outputs": [
    {
     "data": {
      "text/plain": [
       "<matplotlib.lines.Line2D at 0x2616b3a2c10>"
      ]
     },
     "execution_count": 77,
     "metadata": {},
     "output_type": "execute_result"
    },
    {
     "data": {
      "image/png": "[encoded data removed]",
      "text/plain": [
       "<Figure size 432x288 with 1 Axes>"
      ]
     },
     "metadata": {
      "needs_background": "light"
     },
     "output_type": "display_data"
    }
   ],
   "source": [
    "sns.histplot(x = strava['Distancia (km)'], bins = 10, color=\"grey\").axvline(np.mean(strava['Distancia (km)']))"
   ]
  },
  {
   "cell_type": "markdown",
   "metadata": {},
   "source": [
    "The average distance of the last 30 races is `8,51 km`."
   ]
  },
  {
   "cell_type": "markdown",
   "metadata": {},
   "source": [
    "### Is there any relation between `time` and `distance`?"
   ]
  },
  {
   "cell_type": "code",
   "execution_count": 9,
   "metadata": {
    "scrolled": true
   },
   "outputs": [
    {
     "data": {
      "text/plain": [
       "<AxesSubplot:xlabel='Distancia (km)', ylabel='Tiempo (min)'>"
      ]
     },
     "execution_count": 9,
     "metadata": {},
     "output_type": "execute_result"
    },
    {
     "data": {
      "image/png": "[encoded data removed]",
      "text/plain": [
       "<Figure size 432x288 with 1 Axes>"
      ]
     },
     "metadata": {
      "needs_background": "light"
     },
     "output_type": "display_data"
    }
   ],
   "source": [
    "sns.scatterplot(x = strava['Distancia (km)'], y = strava['Tiempo (min)'])"
   ]
  },
  {
   "cell_type": "markdown",
   "metadata": {},
   "source": [
    "Logically, the longer the distance, the longer the time, although this relationship varies slightly if you have gone faster or slower."
   ]
  },
  {
   "cell_type": "markdown",
   "metadata": {},
   "source": [
    "### Is there any relation between `distance` and `rhythm`?"
   ]
  },
  {
   "cell_type": "code",
   "execution_count": 78,
   "metadata": {
    "scrolled": true
   },
   "outputs": [
    {
     "data": {
      "text/plain": [
       "<AxesSubplot:xlabel='Distancia (km)', ylabel='Ritmo medio (min/km)'>"
      ]
     },
     "execution_count": 78,
     "metadata": {},
     "output_type": "execute_result"
    },
    {
     "data": {
      "image/png": "[encoded data removed]",
      "text/plain": [
       "<Figure size 432x288 with 1 Axes>"
      ]
     },
     "metadata": {
      "needs_background": "light"
     },
     "output_type": "display_data"
    }
   ],
   "source": [
    "sns.scatterplot(x = strava['Distancia (km)'], y = strava['Ritmo medio (min/km)'])"
   ]
  },
  {
   "cell_type": "markdown",
   "metadata": {},
   "source": [
    "there is no clear relationship between average pace and distance."
   ]
  },
  {
   "cell_type": "code",
   "execution_count": 10,
   "metadata": {},
   "outputs": [
    {
     "data": {
      "text/plain": [
       "<AxesSubplot:xlabel='Altitud (m)', ylabel='Density'>"
      ]
     },
     "execution_count": 10,
     "metadata": {},
     "output_type": "execute_result"
    },
    {
     "data": {
      "image/png": "[encoded data removed]",
      "text/plain": [
       "<Figure size 432x288 with 1 Axes>"
      ]
     },
     "metadata": {
      "needs_background": "light"
     },
     "output_type": "display_data"
    }
   ],
   "source": [
    "sns.kdeplot(x = strava['Altitud (m)'], hue =strava['Ciudad'])"
   ]
  },
  {
   "cell_type": "markdown",
   "metadata": {},
   "source": [
    "### What is the relationship between `heart rate` and `rhythm`?"
   ]
  },
  {
   "cell_type": "code",
   "execution_count": 11,
   "metadata": {
    "scrolled": false
   },
   "outputs": [
    {
     "data": {
      "text/plain": [
       "<AxesSubplot:xlabel='Ritmo medio (min/km)', ylabel='Pulso medio (ppm)'>"
      ]
     },
     "execution_count": 11,
     "metadata": {},
     "output_type": "execute_result"
    },
    {
     "data": {
      "image/png": "[encoded data removed]",
      "text/plain": [
       "<Figure size 432x288 with 1 Axes>"
      ]
     },
     "metadata": {
      "needs_background": "light"
     },
     "output_type": "display_data"
    }
   ],
   "source": [
    "sns.scatterplot(x = strava['Ritmo medio (min/km)'], y = strava['Pulso medio (ppm)'], color='red')"
   ]
  },
  {
   "cell_type": "markdown",
   "metadata": {},
   "source": [
    "in most cases, the higher the pace, the higher the heart rate."
   ]
  },
  {
   "cell_type": "markdown",
   "metadata": {},
   "source": [
    "### Is there any relation between `rhythm` and `elevation`?"
   ]
  },
  {
   "cell_type": "code",
   "execution_count": 12,
   "metadata": {},
   "outputs": [
    {
     "data": {
      "text/plain": [
       "<AxesSubplot:xlabel='Ritmo medio (min/km)', ylabel='Elevacion (m)'>"
      ]
     },
     "execution_count": 12,
     "metadata": {},
     "output_type": "execute_result"
    },
    {
     "data": {
      "image/png": "[encoded data removed]",
      "text/plain": [
       "<Figure size 432x288 with 1 Axes>"
      ]
     },
     "metadata": {
      "needs_background": "light"
     },
     "output_type": "display_data"
    }
   ],
   "source": [
    "sns.scatterplot(x = strava['Ritmo medio (min/km)'], y = strava['Elevacion (m)'], color='Orange')"
   ]
  },
  {
   "cell_type": "markdown",
   "metadata": {},
   "source": [
    "In most cases, the higher the `Elevation`, the higher the `heart rate`."
   ]
  },
  {
   "cell_type": "markdown",
   "metadata": {},
   "source": [
    "### PACE"
   ]
  },
  {
   "cell_type": "code",
   "execution_count": 127,
   "metadata": {
    "scrolled": false
   },
   "outputs": [
    {
     "data": {
      "text/plain": [
       "<AxesSubplot:xlabel='Ritmo medio (min/km)'>"
      ]
     },
     "execution_count": 127,
     "metadata": {},
     "output_type": "execute_result"
    },
    {
     "data": {
      "image/png": "[encoded data removed]",
      "text/plain": [
       "<Figure size 432x288 with 1 Axes>"
      ]
     },
     "metadata": {
      "needs_background": "light"
     },
     "output_type": "display_data"
    }
   ],
   "source": [
    "sns.boxplot(x = \"Ritmo medio (min/km)\", data = strava, color=\"orange\")"
   ]
  },
  {
   "cell_type": "markdown",
   "metadata": {},
   "source": [
    "The average `Pace` is `4,48 min /km`."
   ]
  },
  {
   "cell_type": "code",
   "execution_count": 13,
   "metadata": {
    "scrolled": true
   },
   "outputs": [
    {
     "data": {
      "text/plain": [
       "<seaborn.axisgrid.PairGrid at 0x261665df520>"
      ]
     },
     "execution_count": 13,
     "metadata": {},
     "output_type": "execute_result"
    },
    {
     "data": {
      "image/png": "[encoded data removed]",
      "text/plain": [
       "<Figure size 1440x1440 with 72 Axes>"
      ]
     },
     "metadata": {
      "needs_background": "light"
     },
     "output_type": "display_data"
    }
   ],
   "source": [
    "sns.pairplot(data = strava)"
   ]
  },
  {
   "cell_type": "markdown",
   "metadata": {},
   "source": [
    "# Scrap\n",
    "To obtain information from a web page from which we cannot perform APIs because we do not have access to the token, we can do it by `WebScraping`.\n",
    "\n",
    "The information have been taken from [Wikipedia](https://es.wikipedia.org/wiki/Marat%C3%B3n)"
   ]
  },
  {
   "cell_type": "code",
   "execution_count": 81,
   "metadata": {
    "scrolled": true
   },
   "outputs": [
    {
     "data": {
      "text/html": [
       "<div>\n",
       "<style scoped>\n",
       "    .dataframe tbody tr th:only-of-type {\n",
       "        vertical-align: middle;\n",
       "    }\n",
       "\n",
       "    .dataframe tbody tr th {\n",
       "        vertical-align: top;\n",
       "    }\n",
       "\n",
       "    .dataframe thead th {\n",
       "        text-align: right;\n",
       "    }\n",
       "</style>\n",
       "<table border=\"1\" class=\"dataframe\">\n",
       "  <thead>\n",
       "    <tr style=\"text-align: right;\">\n",
       "      <th></th>\n",
       "      <th>Posicion</th>\n",
       "      <th>Tiempo</th>\n",
       "      <th>Nombre</th>\n",
       "      <th>Pais</th>\n",
       "      <th>Fecha</th>\n",
       "      <th>Lugar</th>\n",
       "      <th>Tiempo (min)</th>\n",
       "      <th>Ritmo (min/km)</th>\n",
       "      <th>Velocidad media (km/h)</th>\n",
       "    </tr>\n",
       "  </thead>\n",
       "  <tbody>\n",
       "    <tr>\n",
       "      <th>0</th>\n",
       "      <td>1</td>\n",
       "      <td>2:01:39</td>\n",
       "      <td>Eliud Kipchoge</td>\n",
       "      <td>Kenia</td>\n",
       "      <td>16 de septiembre de 2018</td>\n",
       "      <td>Berlín</td>\n",
       "      <td>121.65</td>\n",
       "      <td>2.88</td>\n",
       "      <td>20.83</td>\n",
       "    </tr>\n",
       "    <tr>\n",
       "      <th>1</th>\n",
       "      <td>2</td>\n",
       "      <td>2:01:41</td>\n",
       "      <td>Kenenisa Bekele</td>\n",
       "      <td>Etiopía</td>\n",
       "      <td>29 de septiembre de 2019</td>\n",
       "      <td>Berlín</td>\n",
       "      <td>121.68</td>\n",
       "      <td>2.88</td>\n",
       "      <td>20.83</td>\n",
       "    </tr>\n",
       "    <tr>\n",
       "      <th>2</th>\n",
       "      <td>3</td>\n",
       "      <td>2:02:48</td>\n",
       "      <td>Birhanu Legese</td>\n",
       "      <td>Etiopía</td>\n",
       "      <td>29 de septiembre de 2019</td>\n",
       "      <td>Berlín</td>\n",
       "      <td>122.80</td>\n",
       "      <td>2.91</td>\n",
       "      <td>20.62</td>\n",
       "    </tr>\n",
       "  </tbody>\n",
       "</table>\n",
       "</div>"
      ],
      "text/plain": [
       "   Posicion   Tiempo           Nombre     Pais                     Fecha  \\\n",
       "0         1  2:01:39   Eliud Kipchoge    Kenia  16 de septiembre de 2018   \n",
       "1         2  2:01:41  Kenenisa Bekele  Etiopía  29 de septiembre de 2019   \n",
       "2         3  2:02:48   Birhanu Legese  Etiopía  29 de septiembre de 2019   \n",
       "\n",
       "    Lugar  Tiempo (min)  Ritmo (min/km)  Velocidad media (km/h)  \n",
       "0  Berlín        121.65            2.88                   20.83  \n",
       "1  Berlín        121.68            2.88                   20.83  \n",
       "2  Berlín        122.80            2.91                   20.62  "
      ]
     },
     "execution_count": 81,
     "metadata": {},
     "output_type": "execute_result"
    }
   ],
   "source": [
    "man.head(3)"
   ]
  },
  {
   "cell_type": "code",
   "execution_count": 80,
   "metadata": {
    "scrolled": true
   },
   "outputs": [
    {
     "data": {
      "text/html": [
       "<div>\n",
       "<style scoped>\n",
       "    .dataframe tbody tr th:only-of-type {\n",
       "        vertical-align: middle;\n",
       "    }\n",
       "\n",
       "    .dataframe tbody tr th {\n",
       "        vertical-align: top;\n",
       "    }\n",
       "\n",
       "    .dataframe thead th {\n",
       "        text-align: right;\n",
       "    }\n",
       "</style>\n",
       "<table border=\"1\" class=\"dataframe\">\n",
       "  <thead>\n",
       "    <tr style=\"text-align: right;\">\n",
       "      <th></th>\n",
       "      <th>Posicion</th>\n",
       "      <th>Tiempo</th>\n",
       "      <th>Nombre</th>\n",
       "      <th>Pais</th>\n",
       "      <th>Fecha</th>\n",
       "      <th>Lugar</th>\n",
       "      <th>Tiempo (min)</th>\n",
       "      <th>Ritmo (min/km)</th>\n",
       "      <th>Velocidad media (km/h)</th>\n",
       "    </tr>\n",
       "  </thead>\n",
       "  <tbody>\n",
       "    <tr>\n",
       "      <th>0</th>\n",
       "      <td>1</td>\n",
       "      <td>2:14:04</td>\n",
       "      <td>Brigid Kosgei</td>\n",
       "      <td>Kenia</td>\n",
       "      <td>13 de octubre de 2019</td>\n",
       "      <td>Chicago</td>\n",
       "      <td>134.07</td>\n",
       "      <td>3.18</td>\n",
       "      <td>18.87</td>\n",
       "    </tr>\n",
       "    <tr>\n",
       "      <th>1</th>\n",
       "      <td>2</td>\n",
       "      <td>2:15:25</td>\n",
       "      <td>Paula Radcliffe</td>\n",
       "      <td>Reino Unido</td>\n",
       "      <td>13 de abril de 2003</td>\n",
       "      <td>Londres</td>\n",
       "      <td>135.42</td>\n",
       "      <td>3.21</td>\n",
       "      <td>18.69</td>\n",
       "    </tr>\n",
       "    <tr>\n",
       "      <th>2</th>\n",
       "      <td>3</td>\n",
       "      <td>2:17:01</td>\n",
       "      <td>Mary Jepkosgei Keitany</td>\n",
       "      <td>Kenia</td>\n",
       "      <td>23 de abril de 2017</td>\n",
       "      <td>Londres</td>\n",
       "      <td>137.02</td>\n",
       "      <td>3.25</td>\n",
       "      <td>18.46</td>\n",
       "    </tr>\n",
       "  </tbody>\n",
       "</table>\n",
       "</div>"
      ],
      "text/plain": [
       "   Posicion   Tiempo                  Nombre         Pais  \\\n",
       "0         1  2:14:04           Brigid Kosgei        Kenia   \n",
       "1         2  2:15:25         Paula Radcliffe  Reino Unido   \n",
       "2         3  2:17:01  Mary Jepkosgei Keitany        Kenia   \n",
       "\n",
       "                   Fecha    Lugar  Tiempo (min)  Ritmo (min/km)  \\\n",
       "0  13 de octubre de 2019  Chicago        134.07            3.18   \n",
       "1    13 de abril de 2003  Londres        135.42            3.21   \n",
       "2    23 de abril de 2017  Londres        137.02            3.25   \n",
       "\n",
       "   Velocidad media (km/h)  \n",
       "0                   18.87  \n",
       "1                   18.69  \n",
       "2                   18.46  "
      ]
     },
     "execution_count": 80,
     "metadata": {},
     "output_type": "execute_result"
    }
   ],
   "source": [
    "woman.head(3)"
   ]
  },
  {
   "cell_type": "markdown",
   "metadata": {},
   "source": [
    "### `Where are they from` and where have they made the `best times`?"
   ]
  },
  {
   "cell_type": "code",
   "execution_count": 134,
   "metadata": {
    "scrolled": true
   },
   "outputs": [
    {
     "data": {
      "text/plain": [
       "<AxesSubplot:xlabel='Lugar', ylabel='Count'>"
      ]
     },
     "execution_count": 134,
     "metadata": {},
     "output_type": "execute_result"
    },
    {
     "data": {
      "image/png": "[encoded data removed]",
      "text/plain": [
       "<Figure size 432x288 with 1 Axes>"
      ]
     },
     "metadata": {
      "needs_background": "light"
     },
     "output_type": "display_data"
    }
   ],
   "source": [
    "sns.histplot(x = man['Lugar'],hue=man['Pais'], palette=\"Blues\")"
   ]
  },
  {
   "cell_type": "markdown",
   "metadata": {},
   "source": [
    "As we can see in the graph most of the male runners are from `Ethiopia` and have broken the record in `Berlin`."
   ]
  },
  {
   "cell_type": "code",
   "execution_count": 117,
   "metadata": {
    "scrolled": true
   },
   "outputs": [
    {
     "data": {
      "text/plain": [
       "<AxesSubplot:xlabel='Lugar', ylabel='Count'>"
      ]
     },
     "execution_count": 117,
     "metadata": {},
     "output_type": "execute_result"
    },
    {
     "data": {
      "image/png": "[encoded data removed]",
      "text/plain": [
       "<Figure size 432x288 with 1 Axes>"
      ]
     },
     "metadata": {
      "needs_background": "light"
     },
     "output_type": "display_data"
    }
   ],
   "source": [
    "sns.histplot(x = woman['Lugar'],hue=woman['Pais'], palette=\"flare\")"
   ]
  },
  {
   "cell_type": "markdown",
   "metadata": {},
   "source": [
    "As we can see in the graph most of the female runners are from `Kenia` and have broken the record in `Chicago` and `London`."
   ]
  },
  {
   "cell_type": "markdown",
   "metadata": {},
   "source": [
    "### PACE"
   ]
  },
  {
   "cell_type": "code",
   "execution_count": 133,
   "metadata": {},
   "outputs": [
    {
     "data": {
      "text/plain": [
       "<AxesSubplot:xlabel='Ritmo (min/km)'>"
      ]
     },
     "execution_count": 133,
     "metadata": {},
     "output_type": "execute_result"
    },
    {
     "data": {
      "image/png": "[encoded data removed]",
      "text/plain": [
       "<Figure size 432x288 with 1 Axes>"
      ]
     },
     "metadata": {
      "needs_background": "light"
     },
     "output_type": "display_data"
    }
   ],
   "source": [
    "sns.boxplot(x = \"Ritmo (min/km)\", data = man, palette=\"Blues\")"
   ]
  },
  {
   "cell_type": "code",
   "execution_count": 123,
   "metadata": {},
   "outputs": [
    {
     "data": {
      "text/plain": [
       "<AxesSubplot:xlabel='Ritmo (min/km)'>"
      ]
     },
     "execution_count": 123,
     "metadata": {},
     "output_type": "execute_result"
    },
    {
     "data": {
      "image/png": "[encoded data removed]",
      "text/plain": [
       "<Figure size 432x288 with 1 Axes>"
      ]
     },
     "metadata": {
      "needs_background": "light"
     },
     "output_type": "display_data"
    }
   ],
   "source": [
    "sns.boxplot(x = \"Ritmo (min/km)\", data = woman, palette=\"flare\")"
   ]
  },
  {
   "cell_type": "markdown",
   "metadata": {},
   "source": [
    "The average `pace` of women is slower than that of men."
   ]
  },
  {
   "cell_type": "markdown",
   "metadata": {},
   "source": [
    "# Kaggle\n",
    "\n",
    "`Kaggle` is one of the best sites to get databases from. From this page we have downloaded a database with all the runners who attended the [Hong Kong marathon](https://www.kaggle.com/melvincheung/hong-kong-marathon-2016) held in 2016.\n",
    "\n",
    "We have divided this data into two groups, the `100 best` and a group with `another 100 runners` that resemble the marks provided by `Strava`."
   ]
  },
  {
   "cell_type": "code",
   "execution_count": 56,
   "metadata": {},
   "outputs": [
    {
     "data": {
      "text/html": [
       "<div>\n",
       "<style scoped>\n",
       "    .dataframe tbody tr th:only-of-type {\n",
       "        vertical-align: middle;\n",
       "    }\n",
       "\n",
       "    .dataframe tbody tr th {\n",
       "        vertical-align: top;\n",
       "    }\n",
       "\n",
       "    .dataframe thead th {\n",
       "        text-align: right;\n",
       "    }\n",
       "</style>\n",
       "<table border=\"1\" class=\"dataframe\">\n",
       "  <thead>\n",
       "    <tr style=\"text-align: right;\">\n",
       "      <th></th>\n",
       "      <th>Unnamed: 0</th>\n",
       "      <th>Overall Position</th>\n",
       "      <th>Gender Position</th>\n",
       "      <th>Category Position</th>\n",
       "      <th>Category</th>\n",
       "      <th>Race No</th>\n",
       "      <th>Country</th>\n",
       "      <th>Official Time</th>\n",
       "      <th>Net Time</th>\n",
       "      <th>10km Time</th>\n",
       "      <th>Half Way Time</th>\n",
       "      <th>30km Time</th>\n",
       "      <th>Tiempo (min)</th>\n",
       "      <th>Ritmo (min/km)</th>\n",
       "      <th>Velocidad media (km/h)</th>\n",
       "    </tr>\n",
       "  </thead>\n",
       "  <tbody>\n",
       "    <tr>\n",
       "      <th>0</th>\n",
       "      <td>0</td>\n",
       "      <td>1</td>\n",
       "      <td>1</td>\n",
       "      <td>1</td>\n",
       "      <td>MMS</td>\n",
       "      <td>21080</td>\n",
       "      <td>Kenya</td>\n",
       "      <td>2:12:12</td>\n",
       "      <td>2:12:11</td>\n",
       "      <td>0:30:35</td>\n",
       "      <td>1:04:48</td>\n",
       "      <td>1:33:36</td>\n",
       "      <td>132.20</td>\n",
       "      <td>3.13</td>\n",
       "      <td>19.17</td>\n",
       "    </tr>\n",
       "    <tr>\n",
       "      <th>1</th>\n",
       "      <td>1</td>\n",
       "      <td>2</td>\n",
       "      <td>2</td>\n",
       "      <td>1</td>\n",
       "      <td>MMI</td>\n",
       "      <td>14</td>\n",
       "      <td>Kenya</td>\n",
       "      <td>2:12:14</td>\n",
       "      <td>2:12:13</td>\n",
       "      <td>0:30:34</td>\n",
       "      <td>1:04:48</td>\n",
       "      <td>1:33:36</td>\n",
       "      <td>132.23</td>\n",
       "      <td>3.13</td>\n",
       "      <td>19.17</td>\n",
       "    </tr>\n",
       "    <tr>\n",
       "      <th>2</th>\n",
       "      <td>2</td>\n",
       "      <td>3</td>\n",
       "      <td>3</td>\n",
       "      <td>2</td>\n",
       "      <td>MMI</td>\n",
       "      <td>2</td>\n",
       "      <td>Ethiopia</td>\n",
       "      <td>2:12:20</td>\n",
       "      <td>2:12:18</td>\n",
       "      <td>0:30:35</td>\n",
       "      <td>1:04:49</td>\n",
       "      <td>1:33:36</td>\n",
       "      <td>132.33</td>\n",
       "      <td>3.14</td>\n",
       "      <td>19.11</td>\n",
       "    </tr>\n",
       "    <tr>\n",
       "      <th>3</th>\n",
       "      <td>3</td>\n",
       "      <td>4</td>\n",
       "      <td>4</td>\n",
       "      <td>2</td>\n",
       "      <td>MMS</td>\n",
       "      <td>21077</td>\n",
       "      <td>Kenya</td>\n",
       "      <td>2:12:29</td>\n",
       "      <td>2:12:27</td>\n",
       "      <td>0:30:35</td>\n",
       "      <td>1:04:48</td>\n",
       "      <td>1:33:36</td>\n",
       "      <td>132.48</td>\n",
       "      <td>3.14</td>\n",
       "      <td>19.11</td>\n",
       "    </tr>\n",
       "    <tr>\n",
       "      <th>4</th>\n",
       "      <td>4</td>\n",
       "      <td>5</td>\n",
       "      <td>5</td>\n",
       "      <td>3</td>\n",
       "      <td>MMI</td>\n",
       "      <td>18</td>\n",
       "      <td>Ethiopia</td>\n",
       "      <td>2:12:47</td>\n",
       "      <td>2:12:46</td>\n",
       "      <td>0:30:34</td>\n",
       "      <td>1:04:48</td>\n",
       "      <td>1:33:36</td>\n",
       "      <td>132.78</td>\n",
       "      <td>3.15</td>\n",
       "      <td>19.05</td>\n",
       "    </tr>\n",
       "  </tbody>\n",
       "</table>\n",
       "</div>"
      ],
      "text/plain": [
       "   Unnamed: 0  Overall Position  Gender Position  Category Position Category  \\\n",
       "0           0                 1                1                  1      MMS   \n",
       "1           1                 2                2                  1      MMI   \n",
       "2           2                 3                3                  2      MMI   \n",
       "3           3                 4                4                  2      MMS   \n",
       "4           4                 5                5                  3      MMI   \n",
       "\n",
       "   Race No  Country  Official Time Net Time 10km Time Half Way Time 30km Time  \\\n",
       "0    21080     Kenya       2:12:12  2:12:11   0:30:35       1:04:48   1:33:36   \n",
       "1       14     Kenya       2:12:14  2:12:13   0:30:34       1:04:48   1:33:36   \n",
       "2        2  Ethiopia       2:12:20  2:12:18   0:30:35       1:04:49   1:33:36   \n",
       "3    21077     Kenya       2:12:29  2:12:27   0:30:35       1:04:48   1:33:36   \n",
       "4       18  Ethiopia       2:12:47  2:12:46   0:30:34       1:04:48   1:33:36   \n",
       "\n",
       "   Tiempo (min)  Ritmo (min/km)  Velocidad media (km/h)  \n",
       "0        132.20            3.13                   19.17  \n",
       "1        132.23            3.13                   19.17  \n",
       "2        132.33            3.14                   19.11  \n",
       "3        132.48            3.14                   19.11  \n",
       "4        132.78            3.15                   19.05  "
      ]
     },
     "execution_count": 56,
     "metadata": {},
     "output_type": "execute_result"
    }
   ],
   "source": [
    "top_100.head()"
   ]
  },
  {
   "cell_type": "code",
   "execution_count": 60,
   "metadata": {},
   "outputs": [
    {
     "data": {
      "text/plain": [
       "<AxesSubplot:xlabel='Count', ylabel='Country '>"
      ]
     },
     "execution_count": 60,
     "metadata": {},
     "output_type": "execute_result"
    },
    {
     "data": {
      "image/png": "[encoded data removed]",
      "text/plain": [
       "<Figure size 432x288 with 1 Axes>"
      ]
     },
     "metadata": {
      "needs_background": "light"
     },
     "output_type": "display_data"
    }
   ],
   "source": [
    "sns.histplot(y = top_100['Country '], color=\"Green\")"
   ]
  },
  {
   "cell_type": "markdown",
   "metadata": {},
   "source": [
    "In the case of the `Hong Kong marathon` top 100, most of the participants were from Hong Kong, followed by `Ethiopia` and `Kenya`."
   ]
  },
  {
   "cell_type": "code",
   "execution_count": 120,
   "metadata": {
    "scrolled": false
   },
   "outputs": [
    {
     "data": {
      "text/plain": [
       "<AxesSubplot:xlabel='Ritmo (min/km)'>"
      ]
     },
     "execution_count": 120,
     "metadata": {},
     "output_type": "execute_result"
    },
    {
     "data": {
      "image/png": "[encoded data removed]",
      "text/plain": [
       "<Figure size 432x288 with 1 Axes>"
      ]
     },
     "metadata": {
      "needs_background": "light"
     },
     "output_type": "display_data"
    }
   ],
   "source": [
    "sns.boxplot(x = \"Ritmo (min/km)\", data = top_100, color=\"green\")"
   ]
  },
  {
   "cell_type": "code",
   "execution_count": 69,
   "metadata": {},
   "outputs": [
    {
     "data": {
      "text/html": [
       "<div>\n",
       "<style scoped>\n",
       "    .dataframe tbody tr th:only-of-type {\n",
       "        vertical-align: middle;\n",
       "    }\n",
       "\n",
       "    .dataframe tbody tr th {\n",
       "        vertical-align: top;\n",
       "    }\n",
       "\n",
       "    .dataframe thead th {\n",
       "        text-align: right;\n",
       "    }\n",
       "</style>\n",
       "<table border=\"1\" class=\"dataframe\">\n",
       "  <thead>\n",
       "    <tr style=\"text-align: right;\">\n",
       "      <th></th>\n",
       "      <th>Unnamed: 0</th>\n",
       "      <th>Overall Position</th>\n",
       "      <th>Gender Position</th>\n",
       "      <th>Category Position</th>\n",
       "      <th>Category</th>\n",
       "      <th>Race No</th>\n",
       "      <th>Country</th>\n",
       "      <th>Official Time</th>\n",
       "      <th>Net Time</th>\n",
       "      <th>10km Time</th>\n",
       "      <th>Half Way Time</th>\n",
       "      <th>30km Time</th>\n",
       "      <th>Tiempo (min)</th>\n",
       "      <th>Ritmo (min/km)</th>\n",
       "      <th>Velocidad media (km/h)</th>\n",
       "    </tr>\n",
       "  </thead>\n",
       "  <tbody>\n",
       "    <tr>\n",
       "      <th>0</th>\n",
       "      <td>800</td>\n",
       "      <td>801</td>\n",
       "      <td>753</td>\n",
       "      <td>244</td>\n",
       "      <td>MMM2</td>\n",
       "      <td>28205</td>\n",
       "      <td>Hong Kong SAR</td>\n",
       "      <td>3:35:37</td>\n",
       "      <td>3:35:32</td>\n",
       "      <td>0:50:00</td>\n",
       "      <td>1:44:04</td>\n",
       "      <td>2:28:10</td>\n",
       "      <td>215.62</td>\n",
       "      <td>5.11</td>\n",
       "      <td>11.74</td>\n",
       "    </tr>\n",
       "    <tr>\n",
       "      <th>1</th>\n",
       "      <td>801</td>\n",
       "      <td>802</td>\n",
       "      <td>754</td>\n",
       "      <td>245</td>\n",
       "      <td>MMM2</td>\n",
       "      <td>28397</td>\n",
       "      <td>Japan</td>\n",
       "      <td>3:35:39</td>\n",
       "      <td>3:35:19</td>\n",
       "      <td>0:43:21</td>\n",
       "      <td>1:30:43</td>\n",
       "      <td>2:17:54</td>\n",
       "      <td>215.65</td>\n",
       "      <td>5.11</td>\n",
       "      <td>11.74</td>\n",
       "    </tr>\n",
       "    <tr>\n",
       "      <th>2</th>\n",
       "      <td>802</td>\n",
       "      <td>803</td>\n",
       "      <td>755</td>\n",
       "      <td>314</td>\n",
       "      <td>MMM1</td>\n",
       "      <td>24228</td>\n",
       "      <td>British Indian Ocean Territory</td>\n",
       "      <td>3:35:44</td>\n",
       "      <td>3:35:19</td>\n",
       "      <td>0:49:17</td>\n",
       "      <td>1:44:13</td>\n",
       "      <td>2:29:28</td>\n",
       "      <td>215.73</td>\n",
       "      <td>5.11</td>\n",
       "      <td>11.74</td>\n",
       "    </tr>\n",
       "    <tr>\n",
       "      <th>3</th>\n",
       "      <td>803</td>\n",
       "      <td>804</td>\n",
       "      <td>756</td>\n",
       "      <td>246</td>\n",
       "      <td>MMM2</td>\n",
       "      <td>28324</td>\n",
       "      <td>Japan</td>\n",
       "      <td>3:35:46</td>\n",
       "      <td>3:34:58</td>\n",
       "      <td>0:52:52</td>\n",
       "      <td>1:48:48</td>\n",
       "      <td>2:32:48</td>\n",
       "      <td>215.77</td>\n",
       "      <td>5.11</td>\n",
       "      <td>11.74</td>\n",
       "    </tr>\n",
       "    <tr>\n",
       "      <th>4</th>\n",
       "      <td>804</td>\n",
       "      <td>806</td>\n",
       "      <td>757</td>\n",
       "      <td>247</td>\n",
       "      <td>MMM2</td>\n",
       "      <td>28132</td>\n",
       "      <td>Hong Kong SAR</td>\n",
       "      <td>3:35:47</td>\n",
       "      <td>3:35:43</td>\n",
       "      <td>0:48:14</td>\n",
       "      <td>1:40:51</td>\n",
       "      <td>2:24:12</td>\n",
       "      <td>215.78</td>\n",
       "      <td>5.11</td>\n",
       "      <td>11.74</td>\n",
       "    </tr>\n",
       "  </tbody>\n",
       "</table>\n",
       "</div>"
      ],
      "text/plain": [
       "   Unnamed: 0  Overall Position  Gender Position  Category Position Category  \\\n",
       "0         800               801              753                244     MMM2   \n",
       "1         801               802              754                245     MMM2   \n",
       "2         802               803              755                314     MMM1   \n",
       "3         803               804              756                246     MMM2   \n",
       "4         804               806              757                247     MMM2   \n",
       "\n",
       "   Race No                        Country  Official Time Net Time 10km Time  \\\n",
       "0    28205                   Hong Kong SAR       3:35:37  3:35:32   0:50:00   \n",
       "1    28397                           Japan       3:35:39  3:35:19   0:43:21   \n",
       "2    24228  British Indian Ocean Territory       3:35:44  3:35:19   0:49:17   \n",
       "3    28324                           Japan       3:35:46  3:34:58   0:52:52   \n",
       "4    28132                   Hong Kong SAR       3:35:47  3:35:43   0:48:14   \n",
       "\n",
       "  Half Way Time 30km Time  Tiempo (min)  Ritmo (min/km)  \\\n",
       "0       1:44:04   2:28:10        215.62            5.11   \n",
       "1       1:30:43   2:17:54        215.65            5.11   \n",
       "2       1:44:13   2:29:28        215.73            5.11   \n",
       "3       1:48:48   2:32:48        215.77            5.11   \n",
       "4       1:40:51   2:24:12        215.78            5.11   \n",
       "\n",
       "   Velocidad media (km/h)  \n",
       "0                   11.74  \n",
       "1                   11.74  \n",
       "2                   11.74  \n",
       "3                   11.74  \n",
       "4                   11.74  "
      ]
     },
     "execution_count": 69,
     "metadata": {},
     "output_type": "execute_result"
    }
   ],
   "source": [
    "media.head()"
   ]
  },
  {
   "cell_type": "code",
   "execution_count": 119,
   "metadata": {},
   "outputs": [
    {
     "data": {
      "text/plain": [
       "<AxesSubplot:xlabel='Count', ylabel='Country '>"
      ]
     },
     "execution_count": 119,
     "metadata": {},
     "output_type": "execute_result"
    },
    {
     "data": {
      "image/png": "[encoded data removed]",
      "text/plain": [
       "<Figure size 432x288 with 1 Axes>"
      ]
     },
     "metadata": {
      "needs_background": "light"
     },
     "output_type": "display_data"
    }
   ],
   "source": [
    "sns.histplot(y = media['Country '], color=\"pink\")"
   ]
  },
  {
   "cell_type": "markdown",
   "metadata": {},
   "source": [
    "In the case of the `Hong Kong marathon`, most of the participants were from Hong Kong, followed by `China` and `Japan`."
   ]
  },
  {
   "cell_type": "code",
   "execution_count": 125,
   "metadata": {
    "scrolled": true
   },
   "outputs": [
    {
     "data": {
      "text/plain": [
       "<AxesSubplot:xlabel='Ritmo (min/km)'>"
      ]
     },
     "execution_count": 125,
     "metadata": {},
     "output_type": "execute_result"
    },
    {
     "data": {
      "image/png": "[encoded data removed]",
      "text/plain": [
       "<Figure size 432x288 with 1 Axes>"
      ]
     },
     "metadata": {
      "needs_background": "light"
     },
     "output_type": "display_data"
    }
   ],
   "source": [
    "sns.boxplot(x = \"Ritmo (min/km)\", data = media, color=\"pink\")"
   ]
  },
  {
   "cell_type": "markdown",
   "metadata": {},
   "source": [
    "# Comparison"
   ]
  },
  {
   "cell_type": "markdown",
   "metadata": {},
   "source": [
    "### PACE"
   ]
  },
  {
   "cell_type": "code",
   "execution_count": 147,
   "metadata": {},
   "outputs": [
    {
     "data": {
      "text/plain": [
       "<AxesSubplot:xlabel='Ritmo (min/km)'>"
      ]
     },
     "execution_count": 147,
     "metadata": {},
     "output_type": "execute_result"
    },
    {
     "data": {
      "image/png": "[encoded data removed]",
      "text/plain": [
       "<Figure size 1440x720 with 6 Axes>"
      ]
     },
     "metadata": {
      "needs_background": "light"
     },
     "output_type": "display_data"
    }
   ],
   "source": [
    "fig, axs = plt.subplots(nrows=2, ncols=3, figsize=(20, 10))\n",
    "\n",
    "sns.boxplot(x = \"Ritmo (min/km)\", data = man, palette=\"Blues\", ax=axs[0,0])\n",
    "sns.boxplot(x = \"Ritmo (min/km)\", data = woman, palette=\"flare\", ax=axs[0,1])\n",
    "sns.boxplot(x = \"Ritmo (min/km)\", data = top_100, color=\"green\", ax=axs[0,2])\n",
    "\n",
    "sns.boxplot(x = \"Ritmo medio (min/km)\", data = strava, color=\"orange\", ax=axs[1,0])\n",
    "sns.boxplot(x = \"Ritmo (min/km)\", data = media, color=\"pink\", ax=axs[1,1])"
   ]
  },
  {
   "cell_type": "markdown",
   "metadata": {},
   "source": [
    "In the first row we can see the average pace differences between the `10 best professional runners` and the `100 best runners of the Hong Kong marathon`.\n",
    "\n",
    "While in the bottom row we see the comparison between the `Strava` data and the data of the non-professional runners of the `Hong Kong marathon`."
   ]
  },
  {
   "cell_type": "markdown",
   "metadata": {},
   "source": [
    "### Nationalities"
   ]
  },
  {
   "cell_type": "code",
   "execution_count": 154,
   "metadata": {
    "scrolled": false
   },
   "outputs": [
    {
     "data": {
      "text/plain": [
       "<AxesSubplot:xlabel='Count', ylabel='Country '>"
      ]
     },
     "execution_count": 154,
     "metadata": {},
     "output_type": "execute_result"
    },
    {
     "data": {
      "image/png": "[encoded data removed]",
      "text/plain": [
       "<Figure size 1440x720 with 4 Axes>"
      ]
     },
     "metadata": {
      "needs_background": "light"
     },
     "output_type": "display_data"
    }
   ],
   "source": [
    "fig, axs = plt.subplots(nrows=2, ncols=2, figsize=(20, 10))\n",
    "\n",
    "sns.histplot(y = man['Pais'], palette=\"Blues\", ax=axs[0,0])\n",
    "sns.histplot(y = woman['Pais'], palette=\"flare\",  ax=axs[0, 1])\n",
    "\n",
    "sns.histplot(y = top_100['Country '], color=\"Green\", ax=axs[1,0])\n",
    "sns.histplot(y = media['Country '], color=\"pink\", ax=axs[1,1])"
   ]
  },
  {
   "cell_type": "markdown",
   "metadata": {},
   "source": [
    "As we can see, the most repeated countries among the `best runners` are `Kenya` and `Ethiopia`."
   ]
  },
  {
   "cell_type": "code",
   "execution_count": 62,
   "metadata": {},
   "outputs": [
    {
     "data": {
      "text/html": [
       "<div>\n",
       "<style scoped>\n",
       "    .dataframe tbody tr th:only-of-type {\n",
       "        vertical-align: middle;\n",
       "    }\n",
       "\n",
       "    .dataframe tbody tr th {\n",
       "        vertical-align: top;\n",
       "    }\n",
       "\n",
       "    .dataframe thead th {\n",
       "        text-align: right;\n",
       "    }\n",
       "</style>\n",
       "<table border=\"1\" class=\"dataframe\">\n",
       "  <thead>\n",
       "    <tr style=\"text-align: right;\">\n",
       "      <th></th>\n",
       "      <th>Posicion</th>\n",
       "      <th>Tiempo (min)</th>\n",
       "      <th>Ritmo (min/km)</th>\n",
       "      <th>Velocidad media (km/h)</th>\n",
       "    </tr>\n",
       "  </thead>\n",
       "  <tbody>\n",
       "    <tr>\n",
       "      <th>count</th>\n",
       "      <td>10.00000</td>\n",
       "      <td>10.000000</td>\n",
       "      <td>10.000000</td>\n",
       "      <td>10.000000</td>\n",
       "    </tr>\n",
       "    <tr>\n",
       "      <th>mean</th>\n",
       "      <td>5.50000</td>\n",
       "      <td>122.881000</td>\n",
       "      <td>2.910000</td>\n",
       "      <td>20.620000</td>\n",
       "    </tr>\n",
       "    <tr>\n",
       "      <th>std</th>\n",
       "      <td>3.02765</td>\n",
       "      <td>0.705604</td>\n",
       "      <td>0.017638</td>\n",
       "      <td>0.123468</td>\n",
       "    </tr>\n",
       "    <tr>\n",
       "      <th>min</th>\n",
       "      <td>1.00000</td>\n",
       "      <td>121.650000</td>\n",
       "      <td>2.880000</td>\n",
       "      <td>20.480000</td>\n",
       "    </tr>\n",
       "    <tr>\n",
       "      <th>25%</th>\n",
       "      <td>3.25000</td>\n",
       "      <td>122.830000</td>\n",
       "      <td>2.910000</td>\n",
       "      <td>20.550000</td>\n",
       "    </tr>\n",
       "    <tr>\n",
       "      <th>50%</th>\n",
       "      <td>5.50000</td>\n",
       "      <td>122.975000</td>\n",
       "      <td>2.910000</td>\n",
       "      <td>20.620000</td>\n",
       "    </tr>\n",
       "    <tr>\n",
       "      <th>75%</th>\n",
       "      <td>7.75000</td>\n",
       "      <td>123.257500</td>\n",
       "      <td>2.920000</td>\n",
       "      <td>20.620000</td>\n",
       "    </tr>\n",
       "    <tr>\n",
       "      <th>max</th>\n",
       "      <td>10.00000</td>\n",
       "      <td>123.750000</td>\n",
       "      <td>2.930000</td>\n",
       "      <td>20.830000</td>\n",
       "    </tr>\n",
       "  </tbody>\n",
       "</table>\n",
       "</div>"
      ],
      "text/plain": [
       "       Posicion  Tiempo (min)  Ritmo (min/km)  Velocidad media (km/h)\n",
       "count  10.00000     10.000000       10.000000               10.000000\n",
       "mean    5.50000    122.881000        2.910000               20.620000\n",
       "std     3.02765      0.705604        0.017638                0.123468\n",
       "min     1.00000    121.650000        2.880000               20.480000\n",
       "25%     3.25000    122.830000        2.910000               20.550000\n",
       "50%     5.50000    122.975000        2.910000               20.620000\n",
       "75%     7.75000    123.257500        2.920000               20.620000\n",
       "max    10.00000    123.750000        2.930000               20.830000"
      ]
     },
     "execution_count": 62,
     "metadata": {},
     "output_type": "execute_result"
    }
   ],
   "source": [
    "man.describe()"
   ]
  },
  {
   "cell_type": "code",
   "execution_count": 61,
   "metadata": {},
   "outputs": [
    {
     "data": {
      "text/html": [
       "<div>\n",
       "<style scoped>\n",
       "    .dataframe tbody tr th:only-of-type {\n",
       "        vertical-align: middle;\n",
       "    }\n",
       "\n",
       "    .dataframe tbody tr th {\n",
       "        vertical-align: top;\n",
       "    }\n",
       "\n",
       "    .dataframe thead th {\n",
       "        text-align: right;\n",
       "    }\n",
       "</style>\n",
       "<table border=\"1\" class=\"dataframe\">\n",
       "  <thead>\n",
       "    <tr style=\"text-align: right;\">\n",
       "      <th></th>\n",
       "      <th>Unnamed: 0</th>\n",
       "      <th>Overall Position</th>\n",
       "      <th>Gender Position</th>\n",
       "      <th>Category Position</th>\n",
       "      <th>Race No</th>\n",
       "      <th>Tiempo (min)</th>\n",
       "      <th>Ritmo (min/km)</th>\n",
       "      <th>Velocidad media (km/h)</th>\n",
       "    </tr>\n",
       "  </thead>\n",
       "  <tbody>\n",
       "    <tr>\n",
       "      <th>count</th>\n",
       "      <td>100.000000</td>\n",
       "      <td>100.000000</td>\n",
       "      <td>100.000000</td>\n",
       "      <td>100.000000</td>\n",
       "      <td>100.000000</td>\n",
       "      <td>100.000000</td>\n",
       "      <td>100.00000</td>\n",
       "      <td>100.000000</td>\n",
       "    </tr>\n",
       "    <tr>\n",
       "      <th>mean</th>\n",
       "      <td>49.500000</td>\n",
       "      <td>50.500000</td>\n",
       "      <td>40.710000</td>\n",
       "      <td>14.510000</td>\n",
       "      <td>20553.080000</td>\n",
       "      <td>166.553100</td>\n",
       "      <td>3.94690</td>\n",
       "      <td>15.317100</td>\n",
       "    </tr>\n",
       "    <tr>\n",
       "      <th>std</th>\n",
       "      <td>29.011492</td>\n",
       "      <td>29.011492</td>\n",
       "      <td>27.292022</td>\n",
       "      <td>11.538688</td>\n",
       "      <td>8132.558715</td>\n",
       "      <td>13.663801</td>\n",
       "      <td>0.32402</td>\n",
       "      <td>1.424242</td>\n",
       "    </tr>\n",
       "    <tr>\n",
       "      <th>min</th>\n",
       "      <td>0.000000</td>\n",
       "      <td>1.000000</td>\n",
       "      <td>1.000000</td>\n",
       "      <td>1.000000</td>\n",
       "      <td>2.000000</td>\n",
       "      <td>132.200000</td>\n",
       "      <td>3.13000</td>\n",
       "      <td>14.150000</td>\n",
       "    </tr>\n",
       "    <tr>\n",
       "      <th>25%</th>\n",
       "      <td>24.750000</td>\n",
       "      <td>25.750000</td>\n",
       "      <td>14.750000</td>\n",
       "      <td>5.000000</td>\n",
       "      <td>20839.500000</td>\n",
       "      <td>159.652500</td>\n",
       "      <td>3.78500</td>\n",
       "      <td>14.380000</td>\n",
       "    </tr>\n",
       "    <tr>\n",
       "      <th>50%</th>\n",
       "      <td>49.500000</td>\n",
       "      <td>50.500000</td>\n",
       "      <td>39.500000</td>\n",
       "      <td>11.000000</td>\n",
       "      <td>21082.000000</td>\n",
       "      <td>172.560000</td>\n",
       "      <td>4.09000</td>\n",
       "      <td>14.670000</td>\n",
       "    </tr>\n",
       "    <tr>\n",
       "      <th>75%</th>\n",
       "      <td>74.250000</td>\n",
       "      <td>75.250000</td>\n",
       "      <td>64.250000</td>\n",
       "      <td>23.000000</td>\n",
       "      <td>24523.750000</td>\n",
       "      <td>175.987500</td>\n",
       "      <td>4.17250</td>\n",
       "      <td>15.852500</td>\n",
       "    </tr>\n",
       "    <tr>\n",
       "      <th>max</th>\n",
       "      <td>99.000000</td>\n",
       "      <td>100.000000</td>\n",
       "      <td>89.000000</td>\n",
       "      <td>42.000000</td>\n",
       "      <td>30259.000000</td>\n",
       "      <td>179.100000</td>\n",
       "      <td>4.24000</td>\n",
       "      <td>19.170000</td>\n",
       "    </tr>\n",
       "  </tbody>\n",
       "</table>\n",
       "</div>"
      ],
      "text/plain": [
       "       Unnamed: 0  Overall Position  Gender Position  Category Position  \\\n",
       "count  100.000000        100.000000       100.000000         100.000000   \n",
       "mean    49.500000         50.500000        40.710000          14.510000   \n",
       "std     29.011492         29.011492        27.292022          11.538688   \n",
       "min      0.000000          1.000000         1.000000           1.000000   \n",
       "25%     24.750000         25.750000        14.750000           5.000000   \n",
       "50%     49.500000         50.500000        39.500000          11.000000   \n",
       "75%     74.250000         75.250000        64.250000          23.000000   \n",
       "max     99.000000        100.000000        89.000000          42.000000   \n",
       "\n",
       "            Race No  Tiempo (min)  Ritmo (min/km)  Velocidad media (km/h)  \n",
       "count    100.000000    100.000000       100.00000              100.000000  \n",
       "mean   20553.080000    166.553100         3.94690               15.317100  \n",
       "std     8132.558715     13.663801         0.32402                1.424242  \n",
       "min        2.000000    132.200000         3.13000               14.150000  \n",
       "25%    20839.500000    159.652500         3.78500               14.380000  \n",
       "50%    21082.000000    172.560000         4.09000               14.670000  \n",
       "75%    24523.750000    175.987500         4.17250               15.852500  \n",
       "max    30259.000000    179.100000         4.24000               19.170000  "
      ]
     },
     "execution_count": 61,
     "metadata": {},
     "output_type": "execute_result"
    }
   ],
   "source": [
    "top_100.describe()"
   ]
  },
  {
   "cell_type": "code",
   "execution_count": 70,
   "metadata": {},
   "outputs": [
    {
     "data": {
      "text/html": [
       "<div>\n",
       "<style scoped>\n",
       "    .dataframe tbody tr th:only-of-type {\n",
       "        vertical-align: middle;\n",
       "    }\n",
       "\n",
       "    .dataframe tbody tr th {\n",
       "        vertical-align: top;\n",
       "    }\n",
       "\n",
       "    .dataframe thead th {\n",
       "        text-align: right;\n",
       "    }\n",
       "</style>\n",
       "<table border=\"1\" class=\"dataframe\">\n",
       "  <thead>\n",
       "    <tr style=\"text-align: right;\">\n",
       "      <th></th>\n",
       "      <th>Unnamed: 0</th>\n",
       "      <th>Overall Position</th>\n",
       "      <th>Gender Position</th>\n",
       "      <th>Category Position</th>\n",
       "      <th>Race No</th>\n",
       "      <th>Tiempo (min)</th>\n",
       "      <th>Ritmo (min/km)</th>\n",
       "      <th>Velocidad media (km/h)</th>\n",
       "    </tr>\n",
       "  </thead>\n",
       "  <tbody>\n",
       "    <tr>\n",
       "      <th>count</th>\n",
       "      <td>100.000000</td>\n",
       "      <td>100.000000</td>\n",
       "      <td>100.00000</td>\n",
       "      <td>100.000000</td>\n",
       "      <td>100.000000</td>\n",
       "      <td>100.000000</td>\n",
       "      <td>100.000000</td>\n",
       "      <td>100.00000</td>\n",
       "    </tr>\n",
       "    <tr>\n",
       "      <th>mean</th>\n",
       "      <td>849.500000</td>\n",
       "      <td>850.500000</td>\n",
       "      <td>754.62000</td>\n",
       "      <td>262.630000</td>\n",
       "      <td>25646.460000</td>\n",
       "      <td>217.562600</td>\n",
       "      <td>5.155200</td>\n",
       "      <td>11.63950</td>\n",
       "    </tr>\n",
       "    <tr>\n",
       "      <th>std</th>\n",
       "      <td>29.011492</td>\n",
       "      <td>29.011492</td>\n",
       "      <td>180.48273</td>\n",
       "      <td>77.533525</td>\n",
       "      <td>3295.941969</td>\n",
       "      <td>0.948293</td>\n",
       "      <td>0.022224</td>\n",
       "      <td>0.05028</td>\n",
       "    </tr>\n",
       "    <tr>\n",
       "      <th>min</th>\n",
       "      <td>800.000000</td>\n",
       "      <td>801.000000</td>\n",
       "      <td>49.00000</td>\n",
       "      <td>9.000000</td>\n",
       "      <td>20011.000000</td>\n",
       "      <td>215.620000</td>\n",
       "      <td>5.110000</td>\n",
       "      <td>11.56000</td>\n",
       "    </tr>\n",
       "    <tr>\n",
       "      <th>25%</th>\n",
       "      <td>824.750000</td>\n",
       "      <td>825.750000</td>\n",
       "      <td>771.75000</td>\n",
       "      <td>248.750000</td>\n",
       "      <td>23398.000000</td>\n",
       "      <td>216.877500</td>\n",
       "      <td>5.140000</td>\n",
       "      <td>11.61000</td>\n",
       "    </tr>\n",
       "    <tr>\n",
       "      <th>50%</th>\n",
       "      <td>849.500000</td>\n",
       "      <td>850.500000</td>\n",
       "      <td>796.50000</td>\n",
       "      <td>273.500000</td>\n",
       "      <td>26056.500000</td>\n",
       "      <td>217.710000</td>\n",
       "      <td>5.160000</td>\n",
       "      <td>11.63000</td>\n",
       "    </tr>\n",
       "    <tr>\n",
       "      <th>75%</th>\n",
       "      <td>874.250000</td>\n",
       "      <td>875.250000</td>\n",
       "      <td>821.25000</td>\n",
       "      <td>321.250000</td>\n",
       "      <td>27785.250000</td>\n",
       "      <td>218.305000</td>\n",
       "      <td>5.170000</td>\n",
       "      <td>11.67000</td>\n",
       "    </tr>\n",
       "    <tr>\n",
       "      <th>max</th>\n",
       "      <td>899.000000</td>\n",
       "      <td>900.000000</td>\n",
       "      <td>846.00000</td>\n",
       "      <td>346.000000</td>\n",
       "      <td>36267.000000</td>\n",
       "      <td>219.200000</td>\n",
       "      <td>5.190000</td>\n",
       "      <td>11.74000</td>\n",
       "    </tr>\n",
       "  </tbody>\n",
       "</table>\n",
       "</div>"
      ],
      "text/plain": [
       "       Unnamed: 0  Overall Position  Gender Position  Category Position  \\\n",
       "count  100.000000        100.000000        100.00000         100.000000   \n",
       "mean   849.500000        850.500000        754.62000         262.630000   \n",
       "std     29.011492         29.011492        180.48273          77.533525   \n",
       "min    800.000000        801.000000         49.00000           9.000000   \n",
       "25%    824.750000        825.750000        771.75000         248.750000   \n",
       "50%    849.500000        850.500000        796.50000         273.500000   \n",
       "75%    874.250000        875.250000        821.25000         321.250000   \n",
       "max    899.000000        900.000000        846.00000         346.000000   \n",
       "\n",
       "            Race No  Tiempo (min)  Ritmo (min/km)  Velocidad media (km/h)  \n",
       "count    100.000000    100.000000      100.000000               100.00000  \n",
       "mean   25646.460000    217.562600        5.155200                11.63950  \n",
       "std     3295.941969      0.948293        0.022224                 0.05028  \n",
       "min    20011.000000    215.620000        5.110000                11.56000  \n",
       "25%    23398.000000    216.877500        5.140000                11.61000  \n",
       "50%    26056.500000    217.710000        5.160000                11.63000  \n",
       "75%    27785.250000    218.305000        5.170000                11.67000  \n",
       "max    36267.000000    219.200000        5.190000                11.74000  "
      ]
     },
     "execution_count": 70,
     "metadata": {},
     "output_type": "execute_result"
    }
   ],
   "source": [
    "media.describe()"
   ]
  },
  {
   "cell_type": "code",
   "execution_count": 71,
   "metadata": {},
   "outputs": [
    {
     "data": {
      "text/html": [
       "<div>\n",
       "<style scoped>\n",
       "    .dataframe tbody tr th:only-of-type {\n",
       "        vertical-align: middle;\n",
       "    }\n",
       "\n",
       "    .dataframe tbody tr th {\n",
       "        vertical-align: top;\n",
       "    }\n",
       "\n",
       "    .dataframe thead th {\n",
       "        text-align: right;\n",
       "    }\n",
       "</style>\n",
       "<table border=\"1\" class=\"dataframe\">\n",
       "  <thead>\n",
       "    <tr style=\"text-align: right;\">\n",
       "      <th></th>\n",
       "      <th>Unnamed: 0</th>\n",
       "      <th>Distancia (km)</th>\n",
       "      <th>Tiempo (min)</th>\n",
       "      <th>Ritmo medio (min/km)</th>\n",
       "      <th>Velocidad media (km/h)</th>\n",
       "      <th>Pulso medio (ppm)</th>\n",
       "      <th>Altitud (m)</th>\n",
       "      <th>Elevacion (m)</th>\n",
       "    </tr>\n",
       "  </thead>\n",
       "  <tbody>\n",
       "    <tr>\n",
       "      <th>count</th>\n",
       "      <td>30.000000</td>\n",
       "      <td>30.000000</td>\n",
       "      <td>30.000000</td>\n",
       "      <td>30.000000</td>\n",
       "      <td>30.000000</td>\n",
       "      <td>30.000000</td>\n",
       "      <td>30.00000</td>\n",
       "      <td>30.000000</td>\n",
       "    </tr>\n",
       "    <tr>\n",
       "      <th>mean</th>\n",
       "      <td>14.500000</td>\n",
       "      <td>8.516667</td>\n",
       "      <td>37.777000</td>\n",
       "      <td>4.483667</td>\n",
       "      <td>13.421667</td>\n",
       "      <td>144.013333</td>\n",
       "      <td>692.23000</td>\n",
       "      <td>67.396667</td>\n",
       "    </tr>\n",
       "    <tr>\n",
       "      <th>std</th>\n",
       "      <td>8.803408</td>\n",
       "      <td>3.368605</td>\n",
       "      <td>14.332539</td>\n",
       "      <td>0.250275</td>\n",
       "      <td>0.754102</td>\n",
       "      <td>11.356442</td>\n",
       "      <td>34.47695</td>\n",
       "      <td>26.903717</td>\n",
       "    </tr>\n",
       "    <tr>\n",
       "      <th>min</th>\n",
       "      <td>0.000000</td>\n",
       "      <td>1.070000</td>\n",
       "      <td>5.420000</td>\n",
       "      <td>3.910000</td>\n",
       "      <td>11.830000</td>\n",
       "      <td>114.100000</td>\n",
       "      <td>655.50000</td>\n",
       "      <td>6.700000</td>\n",
       "    </tr>\n",
       "    <tr>\n",
       "      <th>25%</th>\n",
       "      <td>7.250000</td>\n",
       "      <td>6.470000</td>\n",
       "      <td>28.945000</td>\n",
       "      <td>4.337500</td>\n",
       "      <td>12.937500</td>\n",
       "      <td>139.775000</td>\n",
       "      <td>666.10000</td>\n",
       "      <td>56.900000</td>\n",
       "    </tr>\n",
       "    <tr>\n",
       "      <th>50%</th>\n",
       "      <td>14.500000</td>\n",
       "      <td>8.510000</td>\n",
       "      <td>38.925000</td>\n",
       "      <td>4.460000</td>\n",
       "      <td>13.450000</td>\n",
       "      <td>146.450000</td>\n",
       "      <td>690.30000</td>\n",
       "      <td>75.550000</td>\n",
       "    </tr>\n",
       "    <tr>\n",
       "      <th>75%</th>\n",
       "      <td>21.750000</td>\n",
       "      <td>10.210000</td>\n",
       "      <td>45.822500</td>\n",
       "      <td>4.637500</td>\n",
       "      <td>13.835000</td>\n",
       "      <td>152.525000</td>\n",
       "      <td>702.60000</td>\n",
       "      <td>83.275000</td>\n",
       "    </tr>\n",
       "    <tr>\n",
       "      <th>max</th>\n",
       "      <td>29.000000</td>\n",
       "      <td>14.110000</td>\n",
       "      <td>62.400000</td>\n",
       "      <td>5.070000</td>\n",
       "      <td>15.350000</td>\n",
       "      <td>160.000000</td>\n",
       "      <td>807.10000</td>\n",
       "      <td>115.000000</td>\n",
       "    </tr>\n",
       "  </tbody>\n",
       "</table>\n",
       "</div>"
      ],
      "text/plain": [
       "       Unnamed: 0  Distancia (km)  Tiempo (min)  Ritmo medio (min/km)  \\\n",
       "count   30.000000       30.000000     30.000000             30.000000   \n",
       "mean    14.500000        8.516667     37.777000              4.483667   \n",
       "std      8.803408        3.368605     14.332539              0.250275   \n",
       "min      0.000000        1.070000      5.420000              3.910000   \n",
       "25%      7.250000        6.470000     28.945000              4.337500   \n",
       "50%     14.500000        8.510000     38.925000              4.460000   \n",
       "75%     21.750000       10.210000     45.822500              4.637500   \n",
       "max     29.000000       14.110000     62.400000              5.070000   \n",
       "\n",
       "       Velocidad media (km/h)  Pulso medio (ppm)  Altitud (m)  Elevacion (m)  \n",
       "count               30.000000          30.000000     30.00000      30.000000  \n",
       "mean                13.421667         144.013333    692.23000      67.396667  \n",
       "std                  0.754102          11.356442     34.47695      26.903717  \n",
       "min                 11.830000         114.100000    655.50000       6.700000  \n",
       "25%                 12.937500         139.775000    666.10000      56.900000  \n",
       "50%                 13.450000         146.450000    690.30000      75.550000  \n",
       "75%                 13.835000         152.525000    702.60000      83.275000  \n",
       "max                 15.350000         160.000000    807.10000     115.000000  "
      ]
     },
     "execution_count": 71,
     "metadata": {},
     "output_type": "execute_result"
    }
   ],
   "source": [
    "strava.describe()"
   ]
  },
  {
   "cell_type": "markdown",
   "metadata": {},
   "source": [
    "### PACE"
   ]
  },
  {
   "cell_type": "code",
   "execution_count": null,
   "metadata": {},
   "outputs": [],
   "source": []
  }
 ],
 "metadata": {
  "kernelspec": {
   "display_name": "Python 3",
   "language": "python",
   "name": "python3"
  },
  "language_info": {
   "codemirror_mode": {
    "name": "ipython",
    "version": 3
   },
   "file_extension": ".py",
   "mimetype": "text/x-python",
   "name": "python",
   "nbconvert_exporter": "python",
   "pygments_lexer": "ipython3",
   "version": "3.8.5"
  }
 },
 "nbformat": 4,
 "nbformat_minor": 4
}
